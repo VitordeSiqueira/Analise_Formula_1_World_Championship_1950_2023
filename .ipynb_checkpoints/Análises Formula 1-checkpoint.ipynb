{
 "cells": [
  {
   "cell_type": "markdown",
   "id": "b0870d8d",
   "metadata": {},
   "source": [
    "# 1. Introdução\n",
    "\n",
    "A análise abaixo foi realizada utilizando dados do campeonato mundial de Formula 1 (1950 - 2023) que foram disponibilizados no sites www.kaggle.com.\n",
    "\n",
    "Perguntas que tentaremos responder:\n",
    "- As cinco nacionalidades que mais contribuíram com pilotos na história da Fórmula 1 \n",
    "- As 5 equipes com mais vitórias na Fórmula 1\n",
    "- Os 5 pilotos com mais vitória na Fórmula 1\n",
    "- Brasileiros com mais participações na Formula 1\n",
    ".<br>\n",
    ".<br>\n",
    ".<br>\n",
    "- ..."
   ]
  },
  {
   "cell_type": "markdown",
   "id": "a90c2f79",
   "metadata": {},
   "source": [
    "Fonte do dataset: https://www.kaggle.com/datasets/rohanrao/formula-1-world-championship-1950-2020"
   ]
  },
  {
   "cell_type": "code",
   "execution_count": 17,
   "id": "6b5d8783",
   "metadata": {},
   "outputs": [],
   "source": [
    "#!pip install kaggle"
   ]
  },
  {
   "cell_type": "code",
   "execution_count": 18,
   "id": "cc9fe32b",
   "metadata": {},
   "outputs": [],
   "source": [
    "#!pip install selenium"
   ]
  },
  {
   "cell_type": "markdown",
   "id": "cf2ca2ff",
   "metadata": {},
   "source": [
    "## 2. Carregando bibliotecas"
   ]
  },
  {
   "cell_type": "code",
   "execution_count": 19,
   "id": "4dfb3d69",
   "metadata": {},
   "outputs": [],
   "source": [
    "import pandas as pd\n",
    "import kaggle\n",
    "import numpy as np"
   ]
  },
  {
   "cell_type": "code",
   "execution_count": 20,
   "id": "aab9d646",
   "metadata": {},
   "outputs": [],
   "source": [
    "from selenium import webdriver\n",
    "from selenium.webdriver.common.keys import Keys\n",
    "from selenium.webdriver.common.by import By\n",
    "from urllib.parse import unquote"
   ]
  },
  {
   "cell_type": "markdown",
   "id": "324f2070",
   "metadata": {},
   "source": [
    "## 3. Carregando datasets"
   ]
  },
  {
   "cell_type": "code",
   "execution_count": 21,
   "id": "b2ecb72f",
   "metadata": {},
   "outputs": [
    {
     "data": {
      "text/html": [
       "<div>\n",
       "<style scoped>\n",
       "    .dataframe tbody tr th:only-of-type {\n",
       "        vertical-align: middle;\n",
       "    }\n",
       "\n",
       "    .dataframe tbody tr th {\n",
       "        vertical-align: top;\n",
       "    }\n",
       "\n",
       "    .dataframe thead th {\n",
       "        text-align: right;\n",
       "    }\n",
       "</style>\n",
       "<table border=\"1\" class=\"dataframe\">\n",
       "  <thead>\n",
       "    <tr style=\"text-align: right;\">\n",
       "      <th></th>\n",
       "      <th>driverId</th>\n",
       "      <th>driverRef</th>\n",
       "      <th>number</th>\n",
       "      <th>code</th>\n",
       "      <th>forename</th>\n",
       "      <th>surname</th>\n",
       "      <th>dob</th>\n",
       "      <th>nationality</th>\n",
       "      <th>url</th>\n",
       "    </tr>\n",
       "  </thead>\n",
       "  <tbody>\n",
       "    <tr>\n",
       "      <th>0</th>\n",
       "      <td>1</td>\n",
       "      <td>hamilton</td>\n",
       "      <td>44</td>\n",
       "      <td>HAM</td>\n",
       "      <td>Lewis</td>\n",
       "      <td>Hamilton</td>\n",
       "      <td>1985-01-07</td>\n",
       "      <td>British</td>\n",
       "      <td>http://en.wikipedia.org/wiki/Lewis_Hamilton</td>\n",
       "    </tr>\n",
       "    <tr>\n",
       "      <th>1</th>\n",
       "      <td>2</td>\n",
       "      <td>heidfeld</td>\n",
       "      <td>\\N</td>\n",
       "      <td>HEI</td>\n",
       "      <td>Nick</td>\n",
       "      <td>Heidfeld</td>\n",
       "      <td>1977-05-10</td>\n",
       "      <td>German</td>\n",
       "      <td>http://en.wikipedia.org/wiki/Nick_Heidfeld</td>\n",
       "    </tr>\n",
       "    <tr>\n",
       "      <th>2</th>\n",
       "      <td>3</td>\n",
       "      <td>rosberg</td>\n",
       "      <td>6</td>\n",
       "      <td>ROS</td>\n",
       "      <td>Nico</td>\n",
       "      <td>Rosberg</td>\n",
       "      <td>1985-06-27</td>\n",
       "      <td>German</td>\n",
       "      <td>http://en.wikipedia.org/wiki/Nico_Rosberg</td>\n",
       "    </tr>\n",
       "    <tr>\n",
       "      <th>3</th>\n",
       "      <td>4</td>\n",
       "      <td>alonso</td>\n",
       "      <td>14</td>\n",
       "      <td>ALO</td>\n",
       "      <td>Fernando</td>\n",
       "      <td>Alonso</td>\n",
       "      <td>1981-07-29</td>\n",
       "      <td>Spanish</td>\n",
       "      <td>http://en.wikipedia.org/wiki/Fernando_Alonso</td>\n",
       "    </tr>\n",
       "    <tr>\n",
       "      <th>4</th>\n",
       "      <td>5</td>\n",
       "      <td>kovalainen</td>\n",
       "      <td>\\N</td>\n",
       "      <td>KOV</td>\n",
       "      <td>Heikki</td>\n",
       "      <td>Kovalainen</td>\n",
       "      <td>1981-10-19</td>\n",
       "      <td>Finnish</td>\n",
       "      <td>http://en.wikipedia.org/wiki/Heikki_Kovalainen</td>\n",
       "    </tr>\n",
       "  </tbody>\n",
       "</table>\n",
       "</div>"
      ],
      "text/plain": [
       "   driverId   driverRef number code  forename     surname         dob  \\\n",
       "0         1    hamilton     44  HAM     Lewis    Hamilton  1985-01-07   \n",
       "1         2    heidfeld     \\N  HEI      Nick    Heidfeld  1977-05-10   \n",
       "2         3     rosberg      6  ROS      Nico     Rosberg  1985-06-27   \n",
       "3         4      alonso     14  ALO  Fernando      Alonso  1981-07-29   \n",
       "4         5  kovalainen     \\N  KOV    Heikki  Kovalainen  1981-10-19   \n",
       "\n",
       "  nationality                                             url  \n",
       "0     British     http://en.wikipedia.org/wiki/Lewis_Hamilton  \n",
       "1      German      http://en.wikipedia.org/wiki/Nick_Heidfeld  \n",
       "2      German       http://en.wikipedia.org/wiki/Nico_Rosberg  \n",
       "3     Spanish    http://en.wikipedia.org/wiki/Fernando_Alonso  \n",
       "4     Finnish  http://en.wikipedia.org/wiki/Heikki_Kovalainen  "
      ]
     },
     "execution_count": 21,
     "metadata": {},
     "output_type": "execute_result"
    }
   ],
   "source": [
    "drivers = pd.read_csv('drivers.csv')\n",
    "results = pd.read_csv('results.csv')\n",
    "constructors = pd.read_csv('constructors.csv')\n",
    "races = pd.read_csv(\"races.csv\")\n",
    "drivers.head()"
   ]
  },
  {
   "cell_type": "code",
   "execution_count": 22,
   "id": "4942d236",
   "metadata": {},
   "outputs": [
    {
     "data": {
      "text/html": [
       "<div>\n",
       "<style scoped>\n",
       "    .dataframe tbody tr th:only-of-type {\n",
       "        vertical-align: middle;\n",
       "    }\n",
       "\n",
       "    .dataframe tbody tr th {\n",
       "        vertical-align: top;\n",
       "    }\n",
       "\n",
       "    .dataframe thead th {\n",
       "        text-align: right;\n",
       "    }\n",
       "</style>\n",
       "<table border=\"1\" class=\"dataframe\">\n",
       "  <thead>\n",
       "    <tr style=\"text-align: right;\">\n",
       "      <th></th>\n",
       "      <th>driverId</th>\n",
       "      <th>driverRef</th>\n",
       "      <th>number</th>\n",
       "      <th>code</th>\n",
       "      <th>forename</th>\n",
       "      <th>surname</th>\n",
       "      <th>dob</th>\n",
       "      <th>nationality</th>\n",
       "      <th>url</th>\n",
       "    </tr>\n",
       "  </thead>\n",
       "  <tbody>\n",
       "    <tr>\n",
       "      <th>12</th>\n",
       "      <td>13</td>\n",
       "      <td>massa</td>\n",
       "      <td>19</td>\n",
       "      <td>MAS</td>\n",
       "      <td>Felipe</td>\n",
       "      <td>Massa</td>\n",
       "      <td>1981-04-25</td>\n",
       "      <td>Brazilian</td>\n",
       "      <td>http://en.wikipedia.org/wiki/Felipe_Massa</td>\n",
       "    </tr>\n",
       "  </tbody>\n",
       "</table>\n",
       "</div>"
      ],
      "text/plain": [
       "    driverId driverRef number code forename surname         dob nationality  \\\n",
       "12        13     massa     19  MAS   Felipe   Massa  1981-04-25   Brazilian   \n",
       "\n",
       "                                          url  \n",
       "12  http://en.wikipedia.org/wiki/Felipe_Massa  "
      ]
     },
     "execution_count": 22,
     "metadata": {},
     "output_type": "execute_result"
    }
   ],
   "source": [
    "drivers.query('driverId == 13')"
   ]
  },
  {
   "cell_type": "code",
   "execution_count": 23,
   "id": "63846ffc",
   "metadata": {},
   "outputs": [
    {
     "data": {
      "text/plain": [
       "(858, 9)"
      ]
     },
     "execution_count": 23,
     "metadata": {},
     "output_type": "execute_result"
    }
   ],
   "source": [
    "drivers.shape"
   ]
  },
  {
   "cell_type": "code",
   "execution_count": 24,
   "id": "c12d54b2",
   "metadata": {},
   "outputs": [
    {
     "data": {
      "text/plain": [
       "driverId       0\n",
       "driverRef      0\n",
       "number         0\n",
       "code           0\n",
       "forename       0\n",
       "surname        0\n",
       "dob            0\n",
       "nationality    0\n",
       "url            0\n",
       "dtype: int64"
      ]
     },
     "execution_count": 24,
     "metadata": {},
     "output_type": "execute_result"
    }
   ],
   "source": [
    "drivers.isnull().sum()"
   ]
  },
  {
   "cell_type": "code",
   "execution_count": 25,
   "id": "4f18b727",
   "metadata": {},
   "outputs": [
    {
     "data": {
      "text/plain": [
       "0"
      ]
     },
     "execution_count": 25,
     "metadata": {},
     "output_type": "execute_result"
    }
   ],
   "source": [
    "drivers['driverId'].duplicated().sum()"
   ]
  },
  {
   "cell_type": "markdown",
   "id": "5007a7c8",
   "metadata": {},
   "source": [
    "#### Criando uma nova coluna com o nome inteiro do piloto"
   ]
  },
  {
   "cell_type": "code",
   "execution_count": 26,
   "id": "83d9039a",
   "metadata": {},
   "outputs": [],
   "source": [
    "drivers['fullName'] = drivers['forename'] + \" \" + drivers['surname']"
   ]
  },
  {
   "cell_type": "markdown",
   "id": "22d11530",
   "metadata": {},
   "source": [
    "##### Total de pilotos brasileiro que já disputaram a formula 1"
   ]
  },
  {
   "cell_type": "code",
   "execution_count": 27,
   "id": "97848d09",
   "metadata": {},
   "outputs": [
    {
     "data": {
      "text/plain": [
       "32"
      ]
     },
     "execution_count": 27,
     "metadata": {},
     "output_type": "execute_result"
    }
   ],
   "source": [
    "drivers.query('nationality == \"Brazilian\"').shape[0]"
   ]
  },
  {
   "cell_type": "markdown",
   "id": "ffb97116",
   "metadata": {},
   "source": [
    "### Top 5 nacionalidades que mais contribuíram com pilotos na história da Fórmula 1"
   ]
  },
  {
   "cell_type": "code",
   "execution_count": 28,
   "id": "8261232a",
   "metadata": {},
   "outputs": [
    {
     "data": {
      "text/plain": [
       "nationality\n",
       "British     165\n",
       "American    158\n",
       "Italian      99\n",
       "French       73\n",
       "German       50\n",
       "Name: driverId, dtype: int64"
      ]
     },
     "execution_count": 28,
     "metadata": {},
     "output_type": "execute_result"
    },
    {
     "data": {
      "image/png": "[encoded data removed]",
      "text/plain": [
       "<Figure size 640x480 with 1 Axes>"
      ]
     },
     "metadata": {},
     "output_type": "display_data"
    }
   ],
   "source": [
    "top_5_drivers_nationality = drivers.groupby('nationality').count().sort_values('driverId', ascending=False)['driverId'].head()\n",
    "top_5_drivers_nationality.plot(kind='bar', title=\"Top 5 nationality\")\n",
    "top_5_drivers_nationality"
   ]
  },
  {
   "cell_type": "markdown",
   "id": "865273b5",
   "metadata": {},
   "source": [
    "### Results CSV"
   ]
  },
  {
   "cell_type": "code",
   "execution_count": 29,
   "id": "0296e6a0",
   "metadata": {},
   "outputs": [
    {
     "data": {
      "text/html": [
       "<div>\n",
       "<style scoped>\n",
       "    .dataframe tbody tr th:only-of-type {\n",
       "        vertical-align: middle;\n",
       "    }\n",
       "\n",
       "    .dataframe tbody tr th {\n",
       "        vertical-align: top;\n",
       "    }\n",
       "\n",
       "    .dataframe thead th {\n",
       "        text-align: right;\n",
       "    }\n",
       "</style>\n",
       "<table border=\"1\" class=\"dataframe\">\n",
       "  <thead>\n",
       "    <tr style=\"text-align: right;\">\n",
       "      <th></th>\n",
       "      <th>resultId</th>\n",
       "      <th>raceId</th>\n",
       "      <th>driverId</th>\n",
       "      <th>constructorId</th>\n",
       "      <th>number</th>\n",
       "      <th>grid</th>\n",
       "      <th>position</th>\n",
       "      <th>positionText</th>\n",
       "      <th>positionOrder</th>\n",
       "      <th>points</th>\n",
       "      <th>laps</th>\n",
       "      <th>time</th>\n",
       "      <th>milliseconds</th>\n",
       "      <th>fastestLap</th>\n",
       "      <th>rank</th>\n",
       "      <th>fastestLapTime</th>\n",
       "      <th>fastestLapSpeed</th>\n",
       "      <th>statusId</th>\n",
       "    </tr>\n",
       "  </thead>\n",
       "  <tbody>\n",
       "    <tr>\n",
       "      <th>0</th>\n",
       "      <td>1</td>\n",
       "      <td>18</td>\n",
       "      <td>1</td>\n",
       "      <td>1</td>\n",
       "      <td>22</td>\n",
       "      <td>1</td>\n",
       "      <td>1</td>\n",
       "      <td>1</td>\n",
       "      <td>1</td>\n",
       "      <td>10.0</td>\n",
       "      <td>58</td>\n",
       "      <td>1:34:50.616</td>\n",
       "      <td>5690616</td>\n",
       "      <td>39</td>\n",
       "      <td>2</td>\n",
       "      <td>1:27.452</td>\n",
       "      <td>218.300</td>\n",
       "      <td>1</td>\n",
       "    </tr>\n",
       "    <tr>\n",
       "      <th>1</th>\n",
       "      <td>2</td>\n",
       "      <td>18</td>\n",
       "      <td>2</td>\n",
       "      <td>2</td>\n",
       "      <td>3</td>\n",
       "      <td>5</td>\n",
       "      <td>2</td>\n",
       "      <td>2</td>\n",
       "      <td>2</td>\n",
       "      <td>8.0</td>\n",
       "      <td>58</td>\n",
       "      <td>+5.478</td>\n",
       "      <td>5696094</td>\n",
       "      <td>41</td>\n",
       "      <td>3</td>\n",
       "      <td>1:27.739</td>\n",
       "      <td>217.586</td>\n",
       "      <td>1</td>\n",
       "    </tr>\n",
       "    <tr>\n",
       "      <th>2</th>\n",
       "      <td>3</td>\n",
       "      <td>18</td>\n",
       "      <td>3</td>\n",
       "      <td>3</td>\n",
       "      <td>7</td>\n",
       "      <td>7</td>\n",
       "      <td>3</td>\n",
       "      <td>3</td>\n",
       "      <td>3</td>\n",
       "      <td>6.0</td>\n",
       "      <td>58</td>\n",
       "      <td>+8.163</td>\n",
       "      <td>5698779</td>\n",
       "      <td>41</td>\n",
       "      <td>5</td>\n",
       "      <td>1:28.090</td>\n",
       "      <td>216.719</td>\n",
       "      <td>1</td>\n",
       "    </tr>\n",
       "    <tr>\n",
       "      <th>3</th>\n",
       "      <td>4</td>\n",
       "      <td>18</td>\n",
       "      <td>4</td>\n",
       "      <td>4</td>\n",
       "      <td>5</td>\n",
       "      <td>11</td>\n",
       "      <td>4</td>\n",
       "      <td>4</td>\n",
       "      <td>4</td>\n",
       "      <td>5.0</td>\n",
       "      <td>58</td>\n",
       "      <td>+17.181</td>\n",
       "      <td>5707797</td>\n",
       "      <td>58</td>\n",
       "      <td>7</td>\n",
       "      <td>1:28.603</td>\n",
       "      <td>215.464</td>\n",
       "      <td>1</td>\n",
       "    </tr>\n",
       "    <tr>\n",
       "      <th>4</th>\n",
       "      <td>5</td>\n",
       "      <td>18</td>\n",
       "      <td>5</td>\n",
       "      <td>1</td>\n",
       "      <td>23</td>\n",
       "      <td>3</td>\n",
       "      <td>5</td>\n",
       "      <td>5</td>\n",
       "      <td>5</td>\n",
       "      <td>4.0</td>\n",
       "      <td>58</td>\n",
       "      <td>+18.014</td>\n",
       "      <td>5708630</td>\n",
       "      <td>43</td>\n",
       "      <td>1</td>\n",
       "      <td>1:27.418</td>\n",
       "      <td>218.385</td>\n",
       "      <td>1</td>\n",
       "    </tr>\n",
       "    <tr>\n",
       "      <th>5</th>\n",
       "      <td>6</td>\n",
       "      <td>18</td>\n",
       "      <td>6</td>\n",
       "      <td>3</td>\n",
       "      <td>8</td>\n",
       "      <td>13</td>\n",
       "      <td>6</td>\n",
       "      <td>6</td>\n",
       "      <td>6</td>\n",
       "      <td>3.0</td>\n",
       "      <td>57</td>\n",
       "      <td>\\N</td>\n",
       "      <td>\\N</td>\n",
       "      <td>50</td>\n",
       "      <td>14</td>\n",
       "      <td>1:29.639</td>\n",
       "      <td>212.974</td>\n",
       "      <td>11</td>\n",
       "    </tr>\n",
       "    <tr>\n",
       "      <th>6</th>\n",
       "      <td>7</td>\n",
       "      <td>18</td>\n",
       "      <td>7</td>\n",
       "      <td>5</td>\n",
       "      <td>14</td>\n",
       "      <td>17</td>\n",
       "      <td>7</td>\n",
       "      <td>7</td>\n",
       "      <td>7</td>\n",
       "      <td>2.0</td>\n",
       "      <td>55</td>\n",
       "      <td>\\N</td>\n",
       "      <td>\\N</td>\n",
       "      <td>22</td>\n",
       "      <td>12</td>\n",
       "      <td>1:29.534</td>\n",
       "      <td>213.224</td>\n",
       "      <td>5</td>\n",
       "    </tr>\n",
       "    <tr>\n",
       "      <th>7</th>\n",
       "      <td>8</td>\n",
       "      <td>18</td>\n",
       "      <td>8</td>\n",
       "      <td>6</td>\n",
       "      <td>1</td>\n",
       "      <td>15</td>\n",
       "      <td>8</td>\n",
       "      <td>8</td>\n",
       "      <td>8</td>\n",
       "      <td>1.0</td>\n",
       "      <td>53</td>\n",
       "      <td>\\N</td>\n",
       "      <td>\\N</td>\n",
       "      <td>20</td>\n",
       "      <td>4</td>\n",
       "      <td>1:27.903</td>\n",
       "      <td>217.180</td>\n",
       "      <td>5</td>\n",
       "    </tr>\n",
       "    <tr>\n",
       "      <th>8</th>\n",
       "      <td>9</td>\n",
       "      <td>18</td>\n",
       "      <td>9</td>\n",
       "      <td>2</td>\n",
       "      <td>4</td>\n",
       "      <td>2</td>\n",
       "      <td>\\N</td>\n",
       "      <td>R</td>\n",
       "      <td>9</td>\n",
       "      <td>0.0</td>\n",
       "      <td>47</td>\n",
       "      <td>\\N</td>\n",
       "      <td>\\N</td>\n",
       "      <td>15</td>\n",
       "      <td>9</td>\n",
       "      <td>1:28.753</td>\n",
       "      <td>215.100</td>\n",
       "      <td>4</td>\n",
       "    </tr>\n",
       "    <tr>\n",
       "      <th>9</th>\n",
       "      <td>10</td>\n",
       "      <td>18</td>\n",
       "      <td>10</td>\n",
       "      <td>7</td>\n",
       "      <td>12</td>\n",
       "      <td>18</td>\n",
       "      <td>\\N</td>\n",
       "      <td>R</td>\n",
       "      <td>10</td>\n",
       "      <td>0.0</td>\n",
       "      <td>43</td>\n",
       "      <td>\\N</td>\n",
       "      <td>\\N</td>\n",
       "      <td>23</td>\n",
       "      <td>13</td>\n",
       "      <td>1:29.558</td>\n",
       "      <td>213.166</td>\n",
       "      <td>3</td>\n",
       "    </tr>\n",
       "  </tbody>\n",
       "</table>\n",
       "</div>"
      ],
      "text/plain": [
       "   resultId  raceId  driverId  constructorId number  grid position  \\\n",
       "0         1      18         1              1     22     1        1   \n",
       "1         2      18         2              2      3     5        2   \n",
       "2         3      18         3              3      7     7        3   \n",
       "3         4      18         4              4      5    11        4   \n",
       "4         5      18         5              1     23     3        5   \n",
       "5         6      18         6              3      8    13        6   \n",
       "6         7      18         7              5     14    17        7   \n",
       "7         8      18         8              6      1    15        8   \n",
       "8         9      18         9              2      4     2       \\N   \n",
       "9        10      18        10              7     12    18       \\N   \n",
       "\n",
       "  positionText  positionOrder  points  laps         time milliseconds  \\\n",
       "0            1              1    10.0    58  1:34:50.616      5690616   \n",
       "1            2              2     8.0    58       +5.478      5696094   \n",
       "2            3              3     6.0    58       +8.163      5698779   \n",
       "3            4              4     5.0    58      +17.181      5707797   \n",
       "4            5              5     4.0    58      +18.014      5708630   \n",
       "5            6              6     3.0    57           \\N           \\N   \n",
       "6            7              7     2.0    55           \\N           \\N   \n",
       "7            8              8     1.0    53           \\N           \\N   \n",
       "8            R              9     0.0    47           \\N           \\N   \n",
       "9            R             10     0.0    43           \\N           \\N   \n",
       "\n",
       "  fastestLap rank fastestLapTime fastestLapSpeed  statusId  \n",
       "0         39    2       1:27.452         218.300         1  \n",
       "1         41    3       1:27.739         217.586         1  \n",
       "2         41    5       1:28.090         216.719         1  \n",
       "3         58    7       1:28.603         215.464         1  \n",
       "4         43    1       1:27.418         218.385         1  \n",
       "5         50   14       1:29.639         212.974        11  \n",
       "6         22   12       1:29.534         213.224         5  \n",
       "7         20    4       1:27.903         217.180         5  \n",
       "8         15    9       1:28.753         215.100         4  \n",
       "9         23   13       1:29.558         213.166         3  "
      ]
     },
     "execution_count": 29,
     "metadata": {},
     "output_type": "execute_result"
    }
   ],
   "source": [
    "results.head(10)"
   ]
  },
  {
   "cell_type": "markdown",
   "id": "3683ed26",
   "metadata": {},
   "source": [
    "#### Adicionando as colunas fullName e nationality no dataframe results"
   ]
  },
  {
   "cell_type": "code",
   "execution_count": 30,
   "id": "2b2596fe",
   "metadata": {},
   "outputs": [],
   "source": [
    "results = results.merge(drivers[['fullName', 'driverId', 'nationality']], on='driverId')"
   ]
  },
  {
   "cell_type": "markdown",
   "id": "e9761ca6",
   "metadata": {},
   "source": [
    "#### Adicionando a coluna year no dataframe results"
   ]
  },
  {
   "cell_type": "code",
   "execution_count": 31,
   "id": "e6335a77",
   "metadata": {},
   "outputs": [],
   "source": [
    "results = results.merge(races[[\"year\", \"raceId\"]], on=\"raceId\")"
   ]
  },
  {
   "cell_type": "code",
   "execution_count": 32,
   "id": "65b758ab",
   "metadata": {},
   "outputs": [
    {
     "data": {
      "text/html": [
       "<div>\n",
       "<style scoped>\n",
       "    .dataframe tbody tr th:only-of-type {\n",
       "        vertical-align: middle;\n",
       "    }\n",
       "\n",
       "    .dataframe tbody tr th {\n",
       "        vertical-align: top;\n",
       "    }\n",
       "\n",
       "    .dataframe thead th {\n",
       "        text-align: right;\n",
       "    }\n",
       "</style>\n",
       "<table border=\"1\" class=\"dataframe\">\n",
       "  <thead>\n",
       "    <tr style=\"text-align: right;\">\n",
       "      <th></th>\n",
       "      <th>resultId</th>\n",
       "      <th>raceId</th>\n",
       "      <th>driverId</th>\n",
       "      <th>constructorId</th>\n",
       "      <th>number</th>\n",
       "      <th>grid</th>\n",
       "      <th>position</th>\n",
       "      <th>positionText</th>\n",
       "      <th>positionOrder</th>\n",
       "      <th>points</th>\n",
       "      <th>...</th>\n",
       "      <th>time</th>\n",
       "      <th>milliseconds</th>\n",
       "      <th>fastestLap</th>\n",
       "      <th>rank</th>\n",
       "      <th>fastestLapTime</th>\n",
       "      <th>fastestLapSpeed</th>\n",
       "      <th>statusId</th>\n",
       "      <th>fullName</th>\n",
       "      <th>nationality</th>\n",
       "      <th>year</th>\n",
       "    </tr>\n",
       "  </thead>\n",
       "  <tbody>\n",
       "    <tr>\n",
       "      <th>0</th>\n",
       "      <td>1</td>\n",
       "      <td>18</td>\n",
       "      <td>1</td>\n",
       "      <td>1</td>\n",
       "      <td>22</td>\n",
       "      <td>1</td>\n",
       "      <td>1</td>\n",
       "      <td>1</td>\n",
       "      <td>1</td>\n",
       "      <td>10.0</td>\n",
       "      <td>...</td>\n",
       "      <td>1:34:50.616</td>\n",
       "      <td>5690616</td>\n",
       "      <td>39</td>\n",
       "      <td>2</td>\n",
       "      <td>1:27.452</td>\n",
       "      <td>218.300</td>\n",
       "      <td>1</td>\n",
       "      <td>Lewis Hamilton</td>\n",
       "      <td>British</td>\n",
       "      <td>2008</td>\n",
       "    </tr>\n",
       "    <tr>\n",
       "      <th>1</th>\n",
       "      <td>2</td>\n",
       "      <td>18</td>\n",
       "      <td>2</td>\n",
       "      <td>2</td>\n",
       "      <td>3</td>\n",
       "      <td>5</td>\n",
       "      <td>2</td>\n",
       "      <td>2</td>\n",
       "      <td>2</td>\n",
       "      <td>8.0</td>\n",
       "      <td>...</td>\n",
       "      <td>+5.478</td>\n",
       "      <td>5696094</td>\n",
       "      <td>41</td>\n",
       "      <td>3</td>\n",
       "      <td>1:27.739</td>\n",
       "      <td>217.586</td>\n",
       "      <td>1</td>\n",
       "      <td>Nick Heidfeld</td>\n",
       "      <td>German</td>\n",
       "      <td>2008</td>\n",
       "    </tr>\n",
       "    <tr>\n",
       "      <th>2</th>\n",
       "      <td>3</td>\n",
       "      <td>18</td>\n",
       "      <td>3</td>\n",
       "      <td>3</td>\n",
       "      <td>7</td>\n",
       "      <td>7</td>\n",
       "      <td>3</td>\n",
       "      <td>3</td>\n",
       "      <td>3</td>\n",
       "      <td>6.0</td>\n",
       "      <td>...</td>\n",
       "      <td>+8.163</td>\n",
       "      <td>5698779</td>\n",
       "      <td>41</td>\n",
       "      <td>5</td>\n",
       "      <td>1:28.090</td>\n",
       "      <td>216.719</td>\n",
       "      <td>1</td>\n",
       "      <td>Nico Rosberg</td>\n",
       "      <td>German</td>\n",
       "      <td>2008</td>\n",
       "    </tr>\n",
       "    <tr>\n",
       "      <th>3</th>\n",
       "      <td>4</td>\n",
       "      <td>18</td>\n",
       "      <td>4</td>\n",
       "      <td>4</td>\n",
       "      <td>5</td>\n",
       "      <td>11</td>\n",
       "      <td>4</td>\n",
       "      <td>4</td>\n",
       "      <td>4</td>\n",
       "      <td>5.0</td>\n",
       "      <td>...</td>\n",
       "      <td>+17.181</td>\n",
       "      <td>5707797</td>\n",
       "      <td>58</td>\n",
       "      <td>7</td>\n",
       "      <td>1:28.603</td>\n",
       "      <td>215.464</td>\n",
       "      <td>1</td>\n",
       "      <td>Fernando Alonso</td>\n",
       "      <td>Spanish</td>\n",
       "      <td>2008</td>\n",
       "    </tr>\n",
       "    <tr>\n",
       "      <th>4</th>\n",
       "      <td>5</td>\n",
       "      <td>18</td>\n",
       "      <td>5</td>\n",
       "      <td>1</td>\n",
       "      <td>23</td>\n",
       "      <td>3</td>\n",
       "      <td>5</td>\n",
       "      <td>5</td>\n",
       "      <td>5</td>\n",
       "      <td>4.0</td>\n",
       "      <td>...</td>\n",
       "      <td>+18.014</td>\n",
       "      <td>5708630</td>\n",
       "      <td>43</td>\n",
       "      <td>1</td>\n",
       "      <td>1:27.418</td>\n",
       "      <td>218.385</td>\n",
       "      <td>1</td>\n",
       "      <td>Heikki Kovalainen</td>\n",
       "      <td>Finnish</td>\n",
       "      <td>2008</td>\n",
       "    </tr>\n",
       "  </tbody>\n",
       "</table>\n",
       "<p>5 rows × 21 columns</p>\n",
       "</div>"
      ],
      "text/plain": [
       "   resultId  raceId  driverId  constructorId number  grid position  \\\n",
       "0         1      18         1              1     22     1        1   \n",
       "1         2      18         2              2      3     5        2   \n",
       "2         3      18         3              3      7     7        3   \n",
       "3         4      18         4              4      5    11        4   \n",
       "4         5      18         5              1     23     3        5   \n",
       "\n",
       "  positionText  positionOrder  points  ...         time milliseconds  \\\n",
       "0            1              1    10.0  ...  1:34:50.616      5690616   \n",
       "1            2              2     8.0  ...       +5.478      5696094   \n",
       "2            3              3     6.0  ...       +8.163      5698779   \n",
       "3            4              4     5.0  ...      +17.181      5707797   \n",
       "4            5              5     4.0  ...      +18.014      5708630   \n",
       "\n",
       "  fastestLap rank fastestLapTime fastestLapSpeed statusId           fullName  \\\n",
       "0         39    2       1:27.452         218.300        1     Lewis Hamilton   \n",
       "1         41    3       1:27.739         217.586        1      Nick Heidfeld   \n",
       "2         41    5       1:28.090         216.719        1       Nico Rosberg   \n",
       "3         58    7       1:28.603         215.464        1    Fernando Alonso   \n",
       "4         43    1       1:27.418         218.385        1  Heikki Kovalainen   \n",
       "\n",
       "  nationality  year  \n",
       "0     British  2008  \n",
       "1      German  2008  \n",
       "2      German  2008  \n",
       "3     Spanish  2008  \n",
       "4     Finnish  2008  \n",
       "\n",
       "[5 rows x 21 columns]"
      ]
     },
     "execution_count": 32,
     "metadata": {},
     "output_type": "execute_result"
    }
   ],
   "source": [
    "results.head()"
   ]
  },
  {
   "cell_type": "markdown",
   "id": "291e2f4d",
   "metadata": {},
   "source": [
    "### Top 5 brasileiros com maior número vitórias"
   ]
  },
  {
   "cell_type": "code",
   "execution_count": 33,
   "id": "9b0d338d",
   "metadata": {},
   "outputs": [
    {
     "data": {
      "text/plain": [
       "fullName\n",
       "Ayrton Senna          41\n",
       "Nelson Piquet         23\n",
       "Emerson Fittipaldi    14\n",
       "Felipe Massa          11\n",
       "Rubens Barrichello    11\n",
       "Name: resultId, dtype: int64"
      ]
     },
     "execution_count": 33,
     "metadata": {},
     "output_type": "execute_result"
    }
   ],
   "source": [
    "top_5_brazilian_results_p1 = results.query('nationality == \"Brazilian\" and position == \"1\"').groupby(\"fullName\").count().sort_values(\"driverId\", ascending=False)['resultId'].head()\n",
    "top_5_brazilian_results_p1"
   ]
  },
  {
   "cell_type": "code",
   "execution_count": 34,
   "id": "96552bda",
   "metadata": {},
   "outputs": [
    {
     "data": {
      "text/plain": [
       "<AxesSubplot:title={'center':'Top 5 Brazilians winners'}, xlabel='Name'>"
      ]
     },
     "execution_count": 34,
     "metadata": {},
     "output_type": "execute_result"
    },
    {
     "data": {
      "image/png": "[encoded data removed]",
      "text/plain": [
       "<Figure size 640x480 with 1 Axes>"
      ]
     },
     "metadata": {},
     "output_type": "display_data"
    }
   ],
   "source": [
    "top_5_brazilian_results_p1.plot(kind='bar', title='Top 5 Brazilians winners', xlabel='Name')"
   ]
  },
  {
   "cell_type": "markdown",
   "id": "41b535e4",
   "metadata": {},
   "source": [
    "### Brasileiros com maiores participações na Formula 1"
   ]
  },
  {
   "cell_type": "code",
   "execution_count": 35,
   "id": "ab1c3427",
   "metadata": {},
   "outputs": [
    {
     "data": {
      "text/plain": [
       "fullName\n",
       "Rubens Barrichello    326\n",
       "Felipe Massa          271\n",
       "Nelson Piquet         207\n",
       "Ayrton Senna          162\n",
       "Emerson Fittipaldi    149\n",
       "Name: resultId, dtype: int64"
      ]
     },
     "execution_count": 35,
     "metadata": {},
     "output_type": "execute_result"
    }
   ],
   "source": [
    "top_5_brazilian_parcitipations = results.query('nationality == \"Brazilian\"').groupby(\"fullName\").count().sort_values(\"driverId\", ascending=False)['resultId'].head()\n",
    "top_5_brazilian_parcitipations"
   ]
  },
  {
   "cell_type": "code",
   "execution_count": 36,
   "id": "8579de07",
   "metadata": {},
   "outputs": [
    {
     "data": {
      "text/plain": [
       "<AxesSubplot:title={'center':'Top 5 brazilian participations'}, xlabel='Name'>"
      ]
     },
     "execution_count": 36,
     "metadata": {},
     "output_type": "execute_result"
    },
    {
     "data": {
      "image/png": "[encoded data removed]",
      "text/plain": [
       "<Figure size 640x480 with 1 Axes>"
      ]
     },
     "metadata": {},
     "output_type": "display_data"
    }
   ],
   "source": [
    "top_5_brazilian_parcitipations.plot(kind='bar', title=\"Top 5 brazilian participations\", xlabel=\"Name\")"
   ]
  },
  {
   "cell_type": "markdown",
   "id": "92e5f2de",
   "metadata": {},
   "source": [
    "### Ayrton Senna vs Alain Prost"
   ]
  },
  {
   "cell_type": "markdown",
   "id": "bcf45375",
   "metadata": {},
   "source": [
    "#### Os anos que Ayrton Senna e Alain Prost correram na Fórmula 1"
   ]
  },
  {
   "cell_type": "code",
   "execution_count": 37,
   "id": "f10d68cb",
   "metadata": {},
   "outputs": [
    {
     "name": "stdout",
     "output_type": "stream",
     "text": [
      "Ayrton Senna esteve em [1984 1985 1986 1987 1988 1989 1990 1991 1992 1993 1994] na Fórmula 1\n",
      "-=-=-=-=-=-=-=-=-=-=-=-=-=-=-=-=-=-=-=-=-=-=-=-=-=-=-=-=-=-=-=-=-=-=-=-=-=-=-=-=-=-=-=-=-=-=-=-=-=-=-=-=-=-=-=\n",
      "Alain Prost esteve em [1980 1981 1982 1983 1984 1985 1986 1987 1988 1989 1990 1991 1993] na Fórmula 1\n"
     ]
    }
   ],
   "source": [
    "anos_na_formula1_ayrton_senna = results.query(\"fullName == 'Ayrton Senna'\").sort_values(\"year\", ascending=True)[\"year\"].unique()\n",
    "anos_na_formula1_alain_prost = results.query(\"fullName == 'Alain Prost'\").sort_values(\"year\", ascending=True)[\"year\"].unique()\n",
    "print(\"Ayrton Senna esteve em {} na Fórmula 1\".format(anos_na_formula1_ayrton_senna))\n",
    "print(\"-=\" * 55)\n",
    "print(\"Alain Prost esteve em {} na Fórmula 1\".format(anos_na_formula1_alain_prost))"
   ]
  },
  {
   "cell_type": "markdown",
   "id": "876ef4fb",
   "metadata": {},
   "source": [
    "#### Total de corridas"
   ]
  },
  {
   "cell_type": "code",
   "execution_count": 38,
   "id": "22e26115",
   "metadata": {},
   "outputs": [
    {
     "name": "stdout",
     "output_type": "stream",
     "text": [
      "Total de corridas de Ayrton Senna: 162\n",
      "Total de corridas de Alain Prost: 202\n"
     ]
    }
   ],
   "source": [
    "print(\"Total de corridas de Ayrton Senna: {}\".format(results.query('fullName == \"Ayrton Senna\"').shape[0]))\n",
    "print(\"Total de corridas de Alain Prost: {}\".format(results.query('fullName == \"Alain Prost\"').shape[0]))"
   ]
  },
  {
   "cell_type": "markdown",
   "id": "52d344c1",
   "metadata": {},
   "source": [
    "#### Total de corridas ganhas"
   ]
  },
  {
   "cell_type": "code",
   "execution_count": 39,
   "id": "8c5954bb",
   "metadata": {},
   "outputs": [
    {
     "name": "stdout",
     "output_type": "stream",
     "text": [
      "Total de corridas ganhas de Ayrton Senna: 41\n",
      "Total de corridas ganhas de Alain Prost: 51\n"
     ]
    }
   ],
   "source": [
    "ayrton_senna_p1 = results.query('position == \"1\" and fullName == \"Ayrton Senna\"').count()['driverId']\n",
    "alain_prost_p1 = results.query('position == \"1\" and fullName == \"Alain Prost\"').count()['driverId']\n",
    "print(\"Total de corridas ganhas de Ayrton Senna: {}\".format(ayrton_senna_p1))\n",
    "print(\"Total de corridas ganhas de Alain Prost: {}\".format(alain_prost_p1))\n"
   ]
  },
  {
   "cell_type": "markdown",
   "id": "dc0f70c7",
   "metadata": {},
   "source": [
    "#### Total de corridas ganhas por corridas disputadas"
   ]
  },
  {
   "cell_type": "code",
   "execution_count": 40,
   "id": "54067361",
   "metadata": {},
   "outputs": [
    {
     "name": "stdout",
     "output_type": "stream",
     "text": [
      "0.25308641975308643\n",
      "0.2524752475247525\n"
     ]
    }
   ],
   "source": [
    "print(\"{}\".format(ayrton_senna_p1 / results.query('fullName == \"Ayrton Senna\"').shape[0]))\n",
    "print(\"{}\".format(alain_prost_p1 / results.query('fullName == \"Alain Prost\"').shape[0]))"
   ]
  },
  {
   "cell_type": "markdown",
   "id": "1c0b73ad",
   "metadata": {},
   "source": [
    "#### Total de pódios"
   ]
  },
  {
   "cell_type": "code",
   "execution_count": 41,
   "id": "3ee37d28",
   "metadata": {},
   "outputs": [
    {
     "name": "stdout",
     "output_type": "stream",
     "text": [
      "Pódios de Ayrton Senna: 80\n",
      "Pódios de Alain Prost: 106\n"
     ]
    },
    {
     "data": {
      "text/plain": [
       "<AxesSubplot:>"
      ]
     },
     "execution_count": 41,
     "metadata": {},
     "output_type": "execute_result"
    },
    {
     "data": {
      "image/png": "[encoded data removed]",
      "text/plain": [
       "<Figure size 640x480 with 1 Axes>"
      ]
     },
     "metadata": {},
     "output_type": "display_data"
    }
   ],
   "source": [
    "# Fazer de primeiro, segundo e terceiro colocado\n",
    "ayrton_senna_podio =  results.query('(position == \"1\" or position == \"2\" or position == \"3\" ) and fullName == \"Ayrton Senna\"').count()['driverId']\n",
    "alain_prost_podio = results.query('(position == \"1\" or position == \"2\" or position == \"3\" ) and fullName == \"Alain Prost\"').count()['driverId']\n",
    "print(\"Pódios de Ayrton Senna: {}\".format(ayrton_senna_podio))\n",
    "print(\"Pódios de Alain Prost: {}\".format(alain_prost_podio))\n",
    "podios = { \"Ayrton Senna\": [ayrton_senna_podio],\n",
    "            \"Alain Prost\": [alain_prost_podio]\n",
    "         }\n",
    "\n",
    "df_podios = pd.DataFrame(podios)\n",
    "df_podios.plot(kind=\"bar\")"
   ]
  },
  {
   "cell_type": "markdown",
   "id": "188a3160",
   "metadata": {},
   "source": [
    "#### Número de ocorrencias por posição de chegada"
   ]
  },
  {
   "cell_type": "code",
   "execution_count": 42,
   "id": "f9f69d72",
   "metadata": {},
   "outputs": [],
   "source": [
    "corridas_podio_ayrton_senna = results.query('fullName == \"Ayrton Senna\"').groupby(\"position\").count().sort_values(\"driverId\", ascending=False)[\"driverId\"].head()\n",
    "corridas_podia_alain_prost = results.query('fullName == \"Alain Prost\"').groupby(\"position\").count().sort_values(\"driverId\", ascending=False)[\"driverId\"].head()"
   ]
  },
  {
   "cell_type": "code",
   "execution_count": 43,
   "id": "fea15c61",
   "metadata": {},
   "outputs": [
    {
     "name": "stdout",
     "output_type": "stream",
     "text": [
      "Ayrton Senna\n",
      "1° colocado: 41 corridas.\n",
      "2° colocado: 23 corridas.\n",
      "3° colocado: 16 corridas.\n",
      "-=-=-=-=-=-=-=-=-=-=-=-=-=-=-=-=-=-=-=-=\n",
      "\n",
      "\n",
      "\n",
      "Alain Prost\n",
      "1° colocado: 51 corridas.\n",
      "2° colocado: 35 corridas.\n",
      "3° colocado: 20 corridas.\n"
     ]
    }
   ],
   "source": [
    "print(\"Ayrton Senna\")\n",
    "for item in range(corridas_podio_ayrton_senna[1:4].shape[0]):\n",
    "    print(\"{}° colocado: {} corridas.\".format(item+1, corridas_podio_ayrton_senna[1:4][item]))\n",
    "    \n",
    "print(\"-=\" * 20)    \n",
    "print(\"\\n\\n\")\n",
    "\n",
    "print(\"Alain Prost\")\n",
    "for item in range(corridas_podia_alain_prost[1:4].shape[0]):\n",
    "    print(\"{}° colocado: {} corridas.\".format(item+1, corridas_podia_alain_prost[1:4][item]))"
   ]
  },
  {
   "cell_type": "code",
   "execution_count": 44,
   "id": "7e0e974a",
   "metadata": {},
   "outputs": [
    {
     "data": {
      "text/plain": [
       "<AxesSubplot:title={'center':'Pódio: Senna vs Prost'}>"
      ]
     },
     "execution_count": 44,
     "metadata": {},
     "output_type": "execute_result"
    },
    {
     "data": {
      "image/png": "[encoded data removed]",
      "text/plain": [
       "<Figure size 640x480 with 1 Axes>"
      ]
     },
     "metadata": {},
     "output_type": "display_data"
    }
   ],
   "source": [
    "index = [\"1° Colocado\",\"2° Colocado\",\"3° Colocado\"]\n",
    "ocorrencia_podio = pd.DataFrame({\"Ayrton Senna\": corridas_podio_ayrton_senna[1:4].values,\n",
    "                   \"Alain Prost\": corridas_podia_alain_prost[1:4].values}, index=index)\n",
    "ocorrencia_podio.plot(kind=\"bar\", title=\"Pódio: Senna vs Prost\", rot=0)"
   ]
  },
  {
   "cell_type": "code",
   "execution_count": 45,
   "id": "6b1309c1",
   "metadata": {},
   "outputs": [
    {
     "data": {
      "text/html": [
       "<div>\n",
       "<style scoped>\n",
       "    .dataframe tbody tr th:only-of-type {\n",
       "        vertical-align: middle;\n",
       "    }\n",
       "\n",
       "    .dataframe tbody tr th {\n",
       "        vertical-align: top;\n",
       "    }\n",
       "\n",
       "    .dataframe thead th {\n",
       "        text-align: right;\n",
       "    }\n",
       "</style>\n",
       "<table border=\"1\" class=\"dataframe\">\n",
       "  <thead>\n",
       "    <tr style=\"text-align: right;\">\n",
       "      <th></th>\n",
       "      <th>constructorId</th>\n",
       "      <th>constructorRef</th>\n",
       "      <th>name</th>\n",
       "      <th>nationality</th>\n",
       "      <th>url</th>\n",
       "    </tr>\n",
       "  </thead>\n",
       "  <tbody>\n",
       "    <tr>\n",
       "      <th>0</th>\n",
       "      <td>1</td>\n",
       "      <td>mclaren</td>\n",
       "      <td>McLaren</td>\n",
       "      <td>British</td>\n",
       "      <td>http://en.wikipedia.org/wiki/McLaren</td>\n",
       "    </tr>\n",
       "    <tr>\n",
       "      <th>1</th>\n",
       "      <td>2</td>\n",
       "      <td>bmw_sauber</td>\n",
       "      <td>BMW Sauber</td>\n",
       "      <td>German</td>\n",
       "      <td>http://en.wikipedia.org/wiki/BMW_Sauber</td>\n",
       "    </tr>\n",
       "    <tr>\n",
       "      <th>2</th>\n",
       "      <td>3</td>\n",
       "      <td>williams</td>\n",
       "      <td>Williams</td>\n",
       "      <td>British</td>\n",
       "      <td>http://en.wikipedia.org/wiki/Williams_Grand_Pr...</td>\n",
       "    </tr>\n",
       "    <tr>\n",
       "      <th>3</th>\n",
       "      <td>4</td>\n",
       "      <td>renault</td>\n",
       "      <td>Renault</td>\n",
       "      <td>French</td>\n",
       "      <td>http://en.wikipedia.org/wiki/Renault_in_Formul...</td>\n",
       "    </tr>\n",
       "    <tr>\n",
       "      <th>4</th>\n",
       "      <td>5</td>\n",
       "      <td>toro_rosso</td>\n",
       "      <td>Toro Rosso</td>\n",
       "      <td>Italian</td>\n",
       "      <td>http://en.wikipedia.org/wiki/Scuderia_Toro_Rosso</td>\n",
       "    </tr>\n",
       "  </tbody>\n",
       "</table>\n",
       "</div>"
      ],
      "text/plain": [
       "   constructorId constructorRef        name nationality  \\\n",
       "0              1        mclaren     McLaren     British   \n",
       "1              2     bmw_sauber  BMW Sauber      German   \n",
       "2              3       williams    Williams     British   \n",
       "3              4        renault     Renault      French   \n",
       "4              5     toro_rosso  Toro Rosso     Italian   \n",
       "\n",
       "                                                 url  \n",
       "0               http://en.wikipedia.org/wiki/McLaren  \n",
       "1            http://en.wikipedia.org/wiki/BMW_Sauber  \n",
       "2  http://en.wikipedia.org/wiki/Williams_Grand_Pr...  \n",
       "3  http://en.wikipedia.org/wiki/Renault_in_Formul...  \n",
       "4   http://en.wikipedia.org/wiki/Scuderia_Toro_Rosso  "
      ]
     },
     "execution_count": 45,
     "metadata": {},
     "output_type": "execute_result"
    }
   ],
   "source": [
    "constructors.head()"
   ]
  },
  {
   "cell_type": "markdown",
   "id": "131b6ba1",
   "metadata": {},
   "source": [
    "#### Adicionando o nome da equipe no dataframe results"
   ]
  },
  {
   "cell_type": "code",
   "execution_count": 46,
   "id": "3f2142da",
   "metadata": {},
   "outputs": [
    {
     "data": {
      "text/html": [
       "<div>\n",
       "<style scoped>\n",
       "    .dataframe tbody tr th:only-of-type {\n",
       "        vertical-align: middle;\n",
       "    }\n",
       "\n",
       "    .dataframe tbody tr th {\n",
       "        vertical-align: top;\n",
       "    }\n",
       "\n",
       "    .dataframe thead th {\n",
       "        text-align: right;\n",
       "    }\n",
       "</style>\n",
       "<table border=\"1\" class=\"dataframe\">\n",
       "  <thead>\n",
       "    <tr style=\"text-align: right;\">\n",
       "      <th></th>\n",
       "      <th>resultId</th>\n",
       "      <th>raceId</th>\n",
       "      <th>driverId</th>\n",
       "      <th>constructorId</th>\n",
       "      <th>number</th>\n",
       "      <th>grid</th>\n",
       "      <th>position</th>\n",
       "      <th>positionText</th>\n",
       "      <th>positionOrder</th>\n",
       "      <th>points</th>\n",
       "      <th>...</th>\n",
       "      <th>milliseconds</th>\n",
       "      <th>fastestLap</th>\n",
       "      <th>rank</th>\n",
       "      <th>fastestLapTime</th>\n",
       "      <th>fastestLapSpeed</th>\n",
       "      <th>statusId</th>\n",
       "      <th>fullName</th>\n",
       "      <th>nationality</th>\n",
       "      <th>year</th>\n",
       "      <th>name</th>\n",
       "    </tr>\n",
       "  </thead>\n",
       "  <tbody>\n",
       "    <tr>\n",
       "      <th>2273</th>\n",
       "      <td>22149</td>\n",
       "      <td>900</td>\n",
       "      <td>13</td>\n",
       "      <td>3</td>\n",
       "      <td>19</td>\n",
       "      <td>9</td>\n",
       "      <td>\\N</td>\n",
       "      <td>R</td>\n",
       "      <td>20</td>\n",
       "      <td>0.0</td>\n",
       "      <td>...</td>\n",
       "      <td>\\N</td>\n",
       "      <td>2</td>\n",
       "      <td>19</td>\n",
       "      <td>1:40.287</td>\n",
       "      <td>190.361</td>\n",
       "      <td>4</td>\n",
       "      <td>Felipe Massa</td>\n",
       "      <td>Brazilian</td>\n",
       "      <td>2014</td>\n",
       "      <td>Williams</td>\n",
       "    </tr>\n",
       "    <tr>\n",
       "      <th>2275</th>\n",
       "      <td>22158</td>\n",
       "      <td>901</td>\n",
       "      <td>13</td>\n",
       "      <td>3</td>\n",
       "      <td>19</td>\n",
       "      <td>13</td>\n",
       "      <td>7</td>\n",
       "      <td>7</td>\n",
       "      <td>7</td>\n",
       "      <td>6.0</td>\n",
       "      <td>...</td>\n",
       "      <td>6111050</td>\n",
       "      <td>44</td>\n",
       "      <td>6</td>\n",
       "      <td>1:44.897</td>\n",
       "      <td>190.232</td>\n",
       "      <td>1</td>\n",
       "      <td>Felipe Massa</td>\n",
       "      <td>Brazilian</td>\n",
       "      <td>2014</td>\n",
       "      <td>Williams</td>\n",
       "    </tr>\n",
       "    <tr>\n",
       "      <th>2277</th>\n",
       "      <td>22180</td>\n",
       "      <td>902</td>\n",
       "      <td>13</td>\n",
       "      <td>3</td>\n",
       "      <td>19</td>\n",
       "      <td>7</td>\n",
       "      <td>7</td>\n",
       "      <td>7</td>\n",
       "      <td>7</td>\n",
       "      <td>6.0</td>\n",
       "      <td>...</td>\n",
       "      <td>6014008</td>\n",
       "      <td>40</td>\n",
       "      <td>5</td>\n",
       "      <td>1:39.272</td>\n",
       "      <td>196.260</td>\n",
       "      <td>1</td>\n",
       "      <td>Felipe Massa</td>\n",
       "      <td>Brazilian</td>\n",
       "      <td>2014</td>\n",
       "      <td>Williams</td>\n",
       "    </tr>\n",
       "    <tr>\n",
       "      <th>2279</th>\n",
       "      <td>22210</td>\n",
       "      <td>903</td>\n",
       "      <td>13</td>\n",
       "      <td>3</td>\n",
       "      <td>19</td>\n",
       "      <td>6</td>\n",
       "      <td>15</td>\n",
       "      <td>15</td>\n",
       "      <td>15</td>\n",
       "      <td>0.0</td>\n",
       "      <td>...</td>\n",
       "      <td>\\N</td>\n",
       "      <td>34</td>\n",
       "      <td>9</td>\n",
       "      <td>1:42.379</td>\n",
       "      <td>191.676</td>\n",
       "      <td>11</td>\n",
       "      <td>Felipe Massa</td>\n",
       "      <td>Brazilian</td>\n",
       "      <td>2014</td>\n",
       "      <td>Williams</td>\n",
       "    </tr>\n",
       "    <tr>\n",
       "      <th>2281</th>\n",
       "      <td>22230</td>\n",
       "      <td>904</td>\n",
       "      <td>13</td>\n",
       "      <td>3</td>\n",
       "      <td>19</td>\n",
       "      <td>9</td>\n",
       "      <td>13</td>\n",
       "      <td>13</td>\n",
       "      <td>13</td>\n",
       "      <td>0.0</td>\n",
       "      <td>...</td>\n",
       "      <td>\\N</td>\n",
       "      <td>55</td>\n",
       "      <td>9</td>\n",
       "      <td>1:30.468</td>\n",
       "      <td>185.236</td>\n",
       "      <td>11</td>\n",
       "      <td>Felipe Massa</td>\n",
       "      <td>Brazilian</td>\n",
       "      <td>2014</td>\n",
       "      <td>Williams</td>\n",
       "    </tr>\n",
       "  </tbody>\n",
       "</table>\n",
       "<p>5 rows × 22 columns</p>\n",
       "</div>"
      ],
      "text/plain": [
       "      resultId  raceId  driverId  constructorId number  grid position  \\\n",
       "2273     22149     900        13              3     19     9       \\N   \n",
       "2275     22158     901        13              3     19    13        7   \n",
       "2277     22180     902        13              3     19     7        7   \n",
       "2279     22210     903        13              3     19     6       15   \n",
       "2281     22230     904        13              3     19     9       13   \n",
       "\n",
       "     positionText  positionOrder  points  ...  milliseconds fastestLap rank  \\\n",
       "2273            R             20     0.0  ...            \\N          2   19   \n",
       "2275            7              7     6.0  ...       6111050         44    6   \n",
       "2277            7              7     6.0  ...       6014008         40    5   \n",
       "2279           15             15     0.0  ...            \\N         34    9   \n",
       "2281           13             13     0.0  ...            \\N         55    9   \n",
       "\n",
       "     fastestLapTime fastestLapSpeed statusId      fullName  nationality  year  \\\n",
       "2273       1:40.287         190.361        4  Felipe Massa    Brazilian  2014   \n",
       "2275       1:44.897         190.232        1  Felipe Massa    Brazilian  2014   \n",
       "2277       1:39.272         196.260        1  Felipe Massa    Brazilian  2014   \n",
       "2279       1:42.379         191.676       11  Felipe Massa    Brazilian  2014   \n",
       "2281       1:30.468         185.236       11  Felipe Massa    Brazilian  2014   \n",
       "\n",
       "          name  \n",
       "2273  Williams  \n",
       "2275  Williams  \n",
       "2277  Williams  \n",
       "2279  Williams  \n",
       "2281  Williams  \n",
       "\n",
       "[5 rows x 22 columns]"
      ]
     },
     "execution_count": 46,
     "metadata": {},
     "output_type": "execute_result"
    }
   ],
   "source": [
    "results = results.merge(constructors[['name', 'constructorId']], on='constructorId')\n",
    "results.query('fullName == \"Felipe Massa\"').head()"
   ]
  },
  {
   "cell_type": "markdown",
   "id": "cba504d1",
   "metadata": {},
   "source": [
    "### Top 5 equipes com maior número de vitórias"
   ]
  },
  {
   "cell_type": "code",
   "execution_count": 47,
   "id": "6edfdd71",
   "metadata": {},
   "outputs": [
    {
     "data": {
      "text/plain": [
       "name\n",
       "Ferrari     244\n",
       "McLaren     179\n",
       "Mercedes    125\n",
       "Williams    114\n",
       "Red Bull    113\n",
       "Name: resultId, dtype: int64"
      ]
     },
     "execution_count": 47,
     "metadata": {},
     "output_type": "execute_result"
    }
   ],
   "source": [
    "top_5_contructors_winner = results.query('position == \"1\"').groupby('name').count().sort_values('resultId', ascending=False).head()['resultId']\n",
    "top_5_contructors_winner"
   ]
  },
  {
   "cell_type": "code",
   "execution_count": 48,
   "id": "a1c9b810",
   "metadata": {},
   "outputs": [
    {
     "data": {
      "text/html": [
       "<div>\n",
       "<style scoped>\n",
       "    .dataframe tbody tr th:only-of-type {\n",
       "        vertical-align: middle;\n",
       "    }\n",
       "\n",
       "    .dataframe tbody tr th {\n",
       "        vertical-align: top;\n",
       "    }\n",
       "\n",
       "    .dataframe thead th {\n",
       "        text-align: right;\n",
       "    }\n",
       "</style>\n",
       "<table border=\"1\" class=\"dataframe\">\n",
       "  <thead>\n",
       "    <tr style=\"text-align: right;\">\n",
       "      <th></th>\n",
       "      <th>grid</th>\n",
       "      <th>position</th>\n",
       "    </tr>\n",
       "  </thead>\n",
       "  <tbody>\n",
       "    <tr>\n",
       "      <th>grid</th>\n",
       "      <td>1.000000</td>\n",
       "      <td>0.639249</td>\n",
       "    </tr>\n",
       "    <tr>\n",
       "      <th>position</th>\n",
       "      <td>0.639249</td>\n",
       "      <td>1.000000</td>\n",
       "    </tr>\n",
       "  </tbody>\n",
       "</table>\n",
       "</div>"
      ],
      "text/plain": [
       "              grid  position\n",
       "grid      1.000000  0.639249\n",
       "position  0.639249  1.000000"
      ]
     },
     "execution_count": 48,
     "metadata": {},
     "output_type": "execute_result"
    }
   ],
   "source": [
    "### Duvidas\n",
    "a = '\\\\N'\n",
    "abc = results.query(\"position != @a\")\n",
    "abc = abc[['grid', 'position']].astype(int)\n",
    "\n",
    "ooo = [\"grid\", \"position\"]\n",
    "abc[ooo].corr()"
   ]
  },
  {
   "cell_type": "code",
   "execution_count": 49,
   "id": "c15d0048",
   "metadata": {},
   "outputs": [
    {
     "data": {
      "text/plain": [
       "<AxesSubplot:title={'center':'Top 5 constructor winners'}, xlabel='Constructors'>"
      ]
     },
     "execution_count": 49,
     "metadata": {},
     "output_type": "execute_result"
    },
    {
     "data": {
      "image/png": "[encoded data removed]",
      "text/plain": [
       "<Figure size 640x480 with 1 Axes>"
      ]
     },
     "metadata": {},
     "output_type": "display_data"
    }
   ],
   "source": [
    "top_5_contructors_winner.plot(kind=\"bar\", title=\"Top 5 constructor winners\", xlabel=\"Constructors\")"
   ]
  },
  {
   "cell_type": "markdown",
   "id": "c54bb5a0",
   "metadata": {},
   "source": [
    "#### Excluindo colunas desnecessárias para o projeto e coluna \"year\" que foi adicionado ao dataframe para fazer algumas análises"
   ]
  },
  {
   "cell_type": "code",
   "execution_count": 50,
   "id": "36e6feed",
   "metadata": {},
   "outputs": [],
   "source": [
    "columns_drop_results = [\"number\", \"grid\", \"positionText\", \"positionOrder\", \"points\", \"laps\", \"time\", \"milliseconds\",\n",
    "                       \"fastestLap\", \"rank\", \"fastestLapTime\", \"fastestLapSpeed\", \"statusId\",\"year\", \"name\"]\n",
    "results.drop(columns_drop_results, axis=1, inplace=True)"
   ]
  },
  {
   "cell_type": "code",
   "execution_count": 51,
   "id": "b80c2ff8",
   "metadata": {},
   "outputs": [
    {
     "data": {
      "text/html": [
       "<div>\n",
       "<style scoped>\n",
       "    .dataframe tbody tr th:only-of-type {\n",
       "        vertical-align: middle;\n",
       "    }\n",
       "\n",
       "    .dataframe tbody tr th {\n",
       "        vertical-align: top;\n",
       "    }\n",
       "\n",
       "    .dataframe thead th {\n",
       "        text-align: right;\n",
       "    }\n",
       "</style>\n",
       "<table border=\"1\" class=\"dataframe\">\n",
       "  <thead>\n",
       "    <tr style=\"text-align: right;\">\n",
       "      <th></th>\n",
       "      <th>resultId</th>\n",
       "      <th>raceId</th>\n",
       "      <th>driverId</th>\n",
       "      <th>constructorId</th>\n",
       "      <th>position</th>\n",
       "      <th>fullName</th>\n",
       "      <th>nationality</th>\n",
       "    </tr>\n",
       "  </thead>\n",
       "  <tbody>\n",
       "    <tr>\n",
       "      <th>0</th>\n",
       "      <td>1</td>\n",
       "      <td>18</td>\n",
       "      <td>1</td>\n",
       "      <td>1</td>\n",
       "      <td>1</td>\n",
       "      <td>Lewis Hamilton</td>\n",
       "      <td>British</td>\n",
       "    </tr>\n",
       "    <tr>\n",
       "      <th>1</th>\n",
       "      <td>5</td>\n",
       "      <td>18</td>\n",
       "      <td>5</td>\n",
       "      <td>1</td>\n",
       "      <td>5</td>\n",
       "      <td>Heikki Kovalainen</td>\n",
       "      <td>Finnish</td>\n",
       "    </tr>\n",
       "    <tr>\n",
       "      <th>2</th>\n",
       "      <td>27</td>\n",
       "      <td>19</td>\n",
       "      <td>1</td>\n",
       "      <td>1</td>\n",
       "      <td>5</td>\n",
       "      <td>Lewis Hamilton</td>\n",
       "      <td>British</td>\n",
       "    </tr>\n",
       "    <tr>\n",
       "      <th>3</th>\n",
       "      <td>25</td>\n",
       "      <td>19</td>\n",
       "      <td>5</td>\n",
       "      <td>1</td>\n",
       "      <td>3</td>\n",
       "      <td>Heikki Kovalainen</td>\n",
       "      <td>Finnish</td>\n",
       "    </tr>\n",
       "    <tr>\n",
       "      <th>4</th>\n",
       "      <td>57</td>\n",
       "      <td>20</td>\n",
       "      <td>1</td>\n",
       "      <td>1</td>\n",
       "      <td>13</td>\n",
       "      <td>Lewis Hamilton</td>\n",
       "      <td>British</td>\n",
       "    </tr>\n",
       "  </tbody>\n",
       "</table>\n",
       "</div>"
      ],
      "text/plain": [
       "   resultId  raceId  driverId  constructorId position           fullName  \\\n",
       "0         1      18         1              1        1     Lewis Hamilton   \n",
       "1         5      18         5              1        5  Heikki Kovalainen   \n",
       "2        27      19         1              1        5     Lewis Hamilton   \n",
       "3        25      19         5              1        3  Heikki Kovalainen   \n",
       "4        57      20         1              1       13     Lewis Hamilton   \n",
       "\n",
       "  nationality  \n",
       "0     British  \n",
       "1     Finnish  \n",
       "2     British  \n",
       "3     Finnish  \n",
       "4     British  "
      ]
     },
     "execution_count": 51,
     "metadata": {},
     "output_type": "execute_result"
    }
   ],
   "source": [
    "results.head()"
   ]
  },
  {
   "cell_type": "markdown",
   "id": "ad28f79a",
   "metadata": {},
   "source": [
    "#### Substituindo o valor \\\\N para 0\n",
    "- \\\\\\N significa que o piloto não terminou a corrida"
   ]
  },
  {
   "cell_type": "code",
   "execution_count": 52,
   "id": "4d4b4eec",
   "metadata": {},
   "outputs": [],
   "source": [
    "results['position'].replace(\"\\\\N\", 0, inplace=True)"
   ]
  },
  {
   "cell_type": "code",
   "execution_count": 53,
   "id": "c08390ae",
   "metadata": {},
   "outputs": [
    {
     "data": {
      "text/plain": [
       "array(['1', '5', '3', '13', 0, '2', '12', '8', '9', '10', '4', '7', '6',\n",
       "       '14', '16', '18', '11', '19', '17', '20', '15', '22', '21', '23',\n",
       "       '24', '25', '26', '28', '33', '30', '31', '27', '29', '32'],\n",
       "      dtype=object)"
      ]
     },
     "execution_count": 53,
     "metadata": {},
     "output_type": "execute_result"
    }
   ],
   "source": [
    "results['position'].unique()"
   ]
  },
  {
   "cell_type": "markdown",
   "id": "cd711c7f",
   "metadata": {},
   "source": [
    "### Top 5 pilotos com maiores número de vitórias"
   ]
  },
  {
   "cell_type": "code",
   "execution_count": 54,
   "id": "15818a99",
   "metadata": {},
   "outputs": [
    {
     "data": {
      "text/plain": [
       "fullName\n",
       "Lewis Hamilton        103\n",
       "Michael Schumacher     91\n",
       "Max Verstappen         54\n",
       "Sebastian Vettel       53\n",
       "Alain Prost            51\n",
       "Name: resultId, dtype: int64"
      ]
     },
     "execution_count": 54,
     "metadata": {},
     "output_type": "execute_result"
    }
   ],
   "source": [
    "top_5_p1 = results.query('position == \"1\"').groupby(['fullName']).count().sort_values('resultId', ascending=False)['resultId'].head()\n",
    "#top_5_p1['resultId'].plot(kind='bar', title='Top 5 winners', xlabel='Name')\n",
    "top_5_p1"
   ]
  },
  {
   "cell_type": "code",
   "execution_count": 55,
   "id": "bf6b7d0b",
   "metadata": {},
   "outputs": [
    {
     "data": {
      "text/plain": [
       "<AxesSubplot:title={'center':'Top 5 winners'}, xlabel='Name'>"
      ]
     },
     "execution_count": 55,
     "metadata": {},
     "output_type": "execute_result"
    },
    {
     "data": {
      "image/png": "[encoded data removed]",
      "text/plain": [
       "<Figure size 640x480 with 1 Axes>"
      ]
     },
     "metadata": {},
     "output_type": "display_data"
    }
   ],
   "source": [
    "top_5_p1.plot(kind='bar', title='Top 5 winners', xlabel='Name')"
   ]
  },
  {
   "cell_type": "markdown",
   "id": "24d8dda8",
   "metadata": {},
   "source": [
    "# 4. Selenium\n",
    "\n",
    "### Web Scraping para extrair as fotos dos pilotos de acordo com a URL disponibilizada no dataset \"drivers.csv\" "
   ]
  },
  {
   "cell_type": "markdown",
   "id": "dc882a27",
   "metadata": {},
   "source": [
    "- A tarefa consiste em acessar uma URL específica associada a cada piloto de corrida, verificar se há uma imagem disponível do piloto nessa página e, em seguida, armazenar essa URL da imagem em um dicionário chamado url_image. \n",
    "- Cada chave neste dicionário será o driverId do piloto e o valor correspondente será a URL da imagem, caso exista. Se não houver uma imagem disponível na página do piloto, será salva uma imagem padrão para indicar essa ausência"
   ]
  },
  {
   "cell_type": "code",
   "execution_count": 40,
   "id": "38703adb",
   "metadata": {},
   "outputs": [],
   "source": [
    "options = webdriver.ChromeOptions()\n",
    "options.add_argument('--headless')\n",
    "driver = webdriver.Chrome(options=options)\n",
    "url_image = {}\n",
    "x = 0\n",
    "y = 0\n",
    "for i in range(1, drivers.shape[0]):\n",
    "    driver.get(drivers['url'][x])\n",
    "    elem = driver.find_elements(By.CLASS_NAME, \"mw-file-element\")\n",
    "    contador_limite = len(elem) - 1\n",
    "    if len(elem) != 0:\n",
    "        while drivers['surname'][x].split()[0] not in unquote(elem[y].get_attribute(\"src\")) :\n",
    "            if contador_limite == y:\n",
    "                break\n",
    "            y += 1\n",
    "#         url_image[drivers[\"driverId\"][x]] = unquote(elem[y].get_attribute(\"src\"))\n",
    "#     else:\n",
    "#         url_image[drivers[\"driverId\"][x]] = \"https://www.promoview.com.br/uploads/images/unnamed%2819%29.png\"\n",
    "        \n",
    "    if len(elem) == 0 or drivers['surname'][x].split()[0] not in unquote(elem[y].get_attribute(\"src\")):\n",
    "        url_image[drivers[\"driverId\"][x]] = \"https://www.promoview.com.br/uploads/images/unnamed%2819%29.png\"\n",
    "    else:\n",
    "        url_image[drivers[\"driverId\"][x]] = unquote(elem[y].get_attribute(\"src\"))\n",
    "    y = 0\n",
    "    x += 1\n"
   ]
  },
  {
   "cell_type": "markdown",
   "id": "a52862ee",
   "metadata": {},
   "source": [
    "#### transformando o dicionário  em um dataframe"
   ]
  },
  {
   "cell_type": "code",
   "execution_count": 85,
   "id": "243edf2d",
   "metadata": {},
   "outputs": [],
   "source": [
    "url_image_dataframe = pd.DataFrame(list(url_image.items()), columns=[\"driverId\", \"urlImage\"])"
   ]
  },
  {
   "cell_type": "markdown",
   "id": "d87e85fe",
   "metadata": {},
   "source": [
    "#### Junção do dataframe \"drivers\" com as URLs das fotos dos pilotos "
   ]
  },
  {
   "cell_type": "code",
   "execution_count": 86,
   "id": "3efef64d",
   "metadata": {
    "scrolled": true
   },
   "outputs": [
    {
     "data": {
      "text/html": [
       "<div>\n",
       "<style scoped>\n",
       "    .dataframe tbody tr th:only-of-type {\n",
       "        vertical-align: middle;\n",
       "    }\n",
       "\n",
       "    .dataframe tbody tr th {\n",
       "        vertical-align: top;\n",
       "    }\n",
       "\n",
       "    .dataframe thead th {\n",
       "        text-align: right;\n",
       "    }\n",
       "</style>\n",
       "<table border=\"1\" class=\"dataframe\">\n",
       "  <thead>\n",
       "    <tr style=\"text-align: right;\">\n",
       "      <th></th>\n",
       "      <th>driverId</th>\n",
       "      <th>driverRef</th>\n",
       "      <th>number</th>\n",
       "      <th>code</th>\n",
       "      <th>forename</th>\n",
       "      <th>surname</th>\n",
       "      <th>dob</th>\n",
       "      <th>nationality</th>\n",
       "      <th>url</th>\n",
       "      <th>fullName</th>\n",
       "      <th>urlImage</th>\n",
       "    </tr>\n",
       "  </thead>\n",
       "  <tbody>\n",
       "    <tr>\n",
       "      <th>0</th>\n",
       "      <td>1</td>\n",
       "      <td>hamilton</td>\n",
       "      <td>44</td>\n",
       "      <td>HAM</td>\n",
       "      <td>Lewis</td>\n",
       "      <td>Hamilton</td>\n",
       "      <td>1985-01-07</td>\n",
       "      <td>British</td>\n",
       "      <td>http://en.wikipedia.org/wiki/Lewis_Hamilton</td>\n",
       "      <td>Lewis Hamilton</td>\n",
       "      <td>https://upload.wikimedia.org/wikipedia/commons...</td>\n",
       "    </tr>\n",
       "    <tr>\n",
       "      <th>1</th>\n",
       "      <td>2</td>\n",
       "      <td>heidfeld</td>\n",
       "      <td>\\N</td>\n",
       "      <td>HEI</td>\n",
       "      <td>Nick</td>\n",
       "      <td>Heidfeld</td>\n",
       "      <td>1977-05-10</td>\n",
       "      <td>German</td>\n",
       "      <td>http://en.wikipedia.org/wiki/Nick_Heidfeld</td>\n",
       "      <td>Nick Heidfeld</td>\n",
       "      <td>https://upload.wikimedia.org/wikipedia/commons...</td>\n",
       "    </tr>\n",
       "    <tr>\n",
       "      <th>2</th>\n",
       "      <td>3</td>\n",
       "      <td>rosberg</td>\n",
       "      <td>6</td>\n",
       "      <td>ROS</td>\n",
       "      <td>Nico</td>\n",
       "      <td>Rosberg</td>\n",
       "      <td>1985-06-27</td>\n",
       "      <td>German</td>\n",
       "      <td>http://en.wikipedia.org/wiki/Nico_Rosberg</td>\n",
       "      <td>Nico Rosberg</td>\n",
       "      <td>https://upload.wikimedia.org/wikipedia/commons...</td>\n",
       "    </tr>\n",
       "    <tr>\n",
       "      <th>3</th>\n",
       "      <td>4</td>\n",
       "      <td>alonso</td>\n",
       "      <td>14</td>\n",
       "      <td>ALO</td>\n",
       "      <td>Fernando</td>\n",
       "      <td>Alonso</td>\n",
       "      <td>1981-07-29</td>\n",
       "      <td>Spanish</td>\n",
       "      <td>http://en.wikipedia.org/wiki/Fernando_Alonso</td>\n",
       "      <td>Fernando Alonso</td>\n",
       "      <td>https://upload.wikimedia.org/wikipedia/commons...</td>\n",
       "    </tr>\n",
       "    <tr>\n",
       "      <th>4</th>\n",
       "      <td>5</td>\n",
       "      <td>kovalainen</td>\n",
       "      <td>\\N</td>\n",
       "      <td>KOV</td>\n",
       "      <td>Heikki</td>\n",
       "      <td>Kovalainen</td>\n",
       "      <td>1981-10-19</td>\n",
       "      <td>Finnish</td>\n",
       "      <td>http://en.wikipedia.org/wiki/Heikki_Kovalainen</td>\n",
       "      <td>Heikki Kovalainen</td>\n",
       "      <td>https://upload.wikimedia.org/wikipedia/commons...</td>\n",
       "    </tr>\n",
       "    <tr>\n",
       "      <th>...</th>\n",
       "      <td>...</td>\n",
       "      <td>...</td>\n",
       "      <td>...</td>\n",
       "      <td>...</td>\n",
       "      <td>...</td>\n",
       "      <td>...</td>\n",
       "      <td>...</td>\n",
       "      <td>...</td>\n",
       "      <td>...</td>\n",
       "      <td>...</td>\n",
       "      <td>...</td>\n",
       "    </tr>\n",
       "    <tr>\n",
       "      <th>852</th>\n",
       "      <td>854</td>\n",
       "      <td>mick_schumacher</td>\n",
       "      <td>47</td>\n",
       "      <td>MSC</td>\n",
       "      <td>Mick</td>\n",
       "      <td>Schumacher</td>\n",
       "      <td>1999-03-22</td>\n",
       "      <td>German</td>\n",
       "      <td>http://en.wikipedia.org/wiki/Mick_Schumacher</td>\n",
       "      <td>Mick Schumacher</td>\n",
       "      <td>https://upload.wikimedia.org/wikipedia/commons...</td>\n",
       "    </tr>\n",
       "    <tr>\n",
       "      <th>853</th>\n",
       "      <td>855</td>\n",
       "      <td>zhou</td>\n",
       "      <td>24</td>\n",
       "      <td>ZHO</td>\n",
       "      <td>Guanyu</td>\n",
       "      <td>Zhou</td>\n",
       "      <td>1999-05-30</td>\n",
       "      <td>Chinese</td>\n",
       "      <td>http://en.wikipedia.org/wiki/Zhou_Guanyu</td>\n",
       "      <td>Guanyu Zhou</td>\n",
       "      <td>https://upload.wikimedia.org/wikipedia/commons...</td>\n",
       "    </tr>\n",
       "    <tr>\n",
       "      <th>854</th>\n",
       "      <td>856</td>\n",
       "      <td>de_vries</td>\n",
       "      <td>21</td>\n",
       "      <td>DEV</td>\n",
       "      <td>Nyck</td>\n",
       "      <td>de Vries</td>\n",
       "      <td>1995-02-06</td>\n",
       "      <td>Dutch</td>\n",
       "      <td>http://en.wikipedia.org/wiki/Nyck_de_Vries</td>\n",
       "      <td>Nyck de Vries</td>\n",
       "      <td>https://upload.wikimedia.org/wikipedia/commons...</td>\n",
       "    </tr>\n",
       "    <tr>\n",
       "      <th>855</th>\n",
       "      <td>857</td>\n",
       "      <td>piastri</td>\n",
       "      <td>81</td>\n",
       "      <td>PIA</td>\n",
       "      <td>Oscar</td>\n",
       "      <td>Piastri</td>\n",
       "      <td>2001-04-06</td>\n",
       "      <td>Australian</td>\n",
       "      <td>http://en.wikipedia.org/wiki/Oscar_Piastri</td>\n",
       "      <td>Oscar Piastri</td>\n",
       "      <td>https://upload.wikimedia.org/wikipedia/commons...</td>\n",
       "    </tr>\n",
       "    <tr>\n",
       "      <th>856</th>\n",
       "      <td>858</td>\n",
       "      <td>sargeant</td>\n",
       "      <td>2</td>\n",
       "      <td>SAR</td>\n",
       "      <td>Logan</td>\n",
       "      <td>Sargeant</td>\n",
       "      <td>2000-12-31</td>\n",
       "      <td>American</td>\n",
       "      <td>http://en.wikipedia.org/wiki/Logan_Sargeant</td>\n",
       "      <td>Logan Sargeant</td>\n",
       "      <td>https://upload.wikimedia.org/wikipedia/commons...</td>\n",
       "    </tr>\n",
       "  </tbody>\n",
       "</table>\n",
       "<p>857 rows × 11 columns</p>\n",
       "</div>"
      ],
      "text/plain": [
       "     driverId        driverRef number code  forename     surname         dob  \\\n",
       "0           1         hamilton     44  HAM     Lewis    Hamilton  1985-01-07   \n",
       "1           2         heidfeld     \\N  HEI      Nick    Heidfeld  1977-05-10   \n",
       "2           3          rosberg      6  ROS      Nico     Rosberg  1985-06-27   \n",
       "3           4           alonso     14  ALO  Fernando      Alonso  1981-07-29   \n",
       "4           5       kovalainen     \\N  KOV    Heikki  Kovalainen  1981-10-19   \n",
       "..        ...              ...    ...  ...       ...         ...         ...   \n",
       "852       854  mick_schumacher     47  MSC      Mick  Schumacher  1999-03-22   \n",
       "853       855             zhou     24  ZHO    Guanyu        Zhou  1999-05-30   \n",
       "854       856         de_vries     21  DEV      Nyck    de Vries  1995-02-06   \n",
       "855       857          piastri     81  PIA     Oscar     Piastri  2001-04-06   \n",
       "856       858         sargeant      2  SAR     Logan    Sargeant  2000-12-31   \n",
       "\n",
       "    nationality                                             url  \\\n",
       "0       British     http://en.wikipedia.org/wiki/Lewis_Hamilton   \n",
       "1        German      http://en.wikipedia.org/wiki/Nick_Heidfeld   \n",
       "2        German       http://en.wikipedia.org/wiki/Nico_Rosberg   \n",
       "3       Spanish    http://en.wikipedia.org/wiki/Fernando_Alonso   \n",
       "4       Finnish  http://en.wikipedia.org/wiki/Heikki_Kovalainen   \n",
       "..          ...                                             ...   \n",
       "852      German    http://en.wikipedia.org/wiki/Mick_Schumacher   \n",
       "853     Chinese        http://en.wikipedia.org/wiki/Zhou_Guanyu   \n",
       "854       Dutch      http://en.wikipedia.org/wiki/Nyck_de_Vries   \n",
       "855  Australian      http://en.wikipedia.org/wiki/Oscar_Piastri   \n",
       "856    American     http://en.wikipedia.org/wiki/Logan_Sargeant   \n",
       "\n",
       "              fullName                                           urlImage  \n",
       "0       Lewis Hamilton  https://upload.wikimedia.org/wikipedia/commons...  \n",
       "1        Nick Heidfeld  https://upload.wikimedia.org/wikipedia/commons...  \n",
       "2         Nico Rosberg  https://upload.wikimedia.org/wikipedia/commons...  \n",
       "3      Fernando Alonso  https://upload.wikimedia.org/wikipedia/commons...  \n",
       "4    Heikki Kovalainen  https://upload.wikimedia.org/wikipedia/commons...  \n",
       "..                 ...                                                ...  \n",
       "852    Mick Schumacher  https://upload.wikimedia.org/wikipedia/commons...  \n",
       "853        Guanyu Zhou  https://upload.wikimedia.org/wikipedia/commons...  \n",
       "854      Nyck de Vries  https://upload.wikimedia.org/wikipedia/commons...  \n",
       "855      Oscar Piastri  https://upload.wikimedia.org/wikipedia/commons...  \n",
       "856     Logan Sargeant  https://upload.wikimedia.org/wikipedia/commons...  \n",
       "\n",
       "[857 rows x 11 columns]"
      ]
     },
     "execution_count": 86,
     "metadata": {},
     "output_type": "execute_result"
    }
   ],
   "source": [
    "drivers = drivers.merge(url_image_dataframe, on=\"driverId\")\n",
    "drivers"
   ]
  },
  {
   "cell_type": "markdown",
   "id": "d1d98067",
   "metadata": {},
   "source": [
    "### Web Scraping para extrair todos os campeões da Fórmula 1"
   ]
  },
  {
   "cell_type": "code",
   "execution_count": 87,
   "id": "df2df478",
   "metadata": {},
   "outputs": [],
   "source": [
    "options = webdriver.ChromeOptions()\n",
    "options.add_argument('--headless')\n",
    "driver = webdriver.Chrome(options=options)\n",
    "driver.get(\"https://www.esportesmotor.com/resultados/formula-1/todos-os-campeoes-da-formula-1/\")\n",
    "elem = driver.find_elements(By.TAG_NAME, \"table\")"
   ]
  },
  {
   "cell_type": "code",
   "execution_count": 88,
   "id": "cb31cfc1",
   "metadata": {},
   "outputs": [
    {
     "data": {
      "text/html": [
       "<div>\n",
       "<style scoped>\n",
       "    .dataframe tbody tr th:only-of-type {\n",
       "        vertical-align: middle;\n",
       "    }\n",
       "\n",
       "    .dataframe tbody tr th {\n",
       "        vertical-align: top;\n",
       "    }\n",
       "\n",
       "    .dataframe thead th {\n",
       "        text-align: right;\n",
       "    }\n",
       "</style>\n",
       "<table border=\"1\" class=\"dataframe\">\n",
       "  <thead>\n",
       "    <tr style=\"text-align: right;\">\n",
       "      <th></th>\n",
       "      <th>Conquistas</th>\n",
       "    </tr>\n",
       "    <tr>\n",
       "      <th>Piloto</th>\n",
       "      <th></th>\n",
       "    </tr>\n",
       "  </thead>\n",
       "  <tbody>\n",
       "    <tr>\n",
       "      <th>Michael Schumacher</th>\n",
       "      <td>7</td>\n",
       "    </tr>\n",
       "    <tr>\n",
       "      <th>Lewis Hamilton</th>\n",
       "      <td>7</td>\n",
       "    </tr>\n",
       "    <tr>\n",
       "      <th>Juan Manuel Fangio</th>\n",
       "      <td>5</td>\n",
       "    </tr>\n",
       "    <tr>\n",
       "      <th>Alain Prost</th>\n",
       "      <td>4</td>\n",
       "    </tr>\n",
       "    <tr>\n",
       "      <th>Sebastian Vettel</th>\n",
       "      <td>4</td>\n",
       "    </tr>\n",
       "  </tbody>\n",
       "</table>\n",
       "</div>"
      ],
      "text/plain": [
       "                    Conquistas\n",
       "Piloto                        \n",
       "Michael Schumacher           7\n",
       "Lewis Hamilton               7\n",
       "Juan Manuel Fangio           5\n",
       "Alain Prost                  4\n",
       "Sebastian Vettel             4"
      ]
     },
     "execution_count": 88,
     "metadata": {},
     "output_type": "execute_result"
    }
   ],
   "source": [
    "html_campeoes_formula1 = pd.read_html(elem[0].get_attribute('outerHTML'))\n",
    "df_campeoes_formula1 = pd.DataFrame(html_campeoes_formula1[0])\n",
    "top_5_campeos_formula1 = df_campeoes_formula1.groupby(\"Piloto\")[[\"Ano\"]].count().sort_values(\"Ano\", ascending=False).head()\n",
    "top_5_campeos_formula1.rename(columns={\"Ano\": \"Conquistas\"}, inplace=True)\n",
    "top_5_campeos_formula1"
   ]
  },
  {
   "cell_type": "code",
   "execution_count": 89,
   "id": "33391fdf",
   "metadata": {},
   "outputs": [
    {
     "data": {
      "image/png": "[encoded data removed]",
      "text/plain": [
       "<Figure size 640x480 with 1 Axes>"
      ]
     },
     "metadata": {},
     "output_type": "display_data"
    }
   ],
   "source": [
    "top_5_campeos_formula1[:10].plot(kind=\"barh\").invert_yaxis()"
   ]
  },
  {
   "cell_type": "markdown",
   "id": "9c3502b5",
   "metadata": {},
   "source": [
    "#### Transformando o dataframe de campeões para csv"
   ]
  },
  {
   "cell_type": "code",
   "execution_count": 138,
   "id": "978dfe3d",
   "metadata": {
    "scrolled": false
   },
   "outputs": [
    {
     "ename": "NameError",
     "evalue": "name 'df_campeoes_formula1' is not defined",
     "output_type": "error",
     "traceback": [
      "\u001b[1;31m---------------------------------------------------------------------------\u001b[0m",
      "\u001b[1;31mNameError\u001b[0m                                 Traceback (most recent call last)",
      "\u001b[1;32m~\\AppData\\Local\\Temp\\ipykernel_17416\\3771313284.py\u001b[0m in \u001b[0;36m<module>\u001b[1;34m\u001b[0m\n\u001b[1;32m----> 1\u001b[1;33m \u001b[0mdf_campeoes_formula1\u001b[0m\u001b[1;33m.\u001b[0m\u001b[0mto_csv\u001b[0m\u001b[1;33m(\u001b[0m\u001b[1;34m\"champions.csv\"\u001b[0m\u001b[1;33m,\u001b[0m \u001b[0mindex\u001b[0m\u001b[1;33m=\u001b[0m\u001b[1;32mFalse\u001b[0m\u001b[1;33m)\u001b[0m\u001b[1;33m\u001b[0m\u001b[1;33m\u001b[0m\u001b[0m\n\u001b[0m",
      "\u001b[1;31mNameError\u001b[0m: name 'df_campeoes_formula1' is not defined"
     ]
    }
   ],
   "source": [
    "df_campeoes_formula1.to_csv(\"champions.csv\", index=False)"
   ]
  },
  {
   "cell_type": "code",
   "execution_count": 104,
   "id": "9cab6941",
   "metadata": {},
   "outputs": [],
   "source": [
    "drivers.drop(\"url\", axis=1, inplace=True)"
   ]
  },
  {
   "cell_type": "code",
   "execution_count": 105,
   "id": "4b4ccd67",
   "metadata": {},
   "outputs": [],
   "source": [
    "drivers.to_csv(\"drivers_with_image.csv\", index=False)"
   ]
  },
  {
   "cell_type": "code",
   "execution_count": 107,
   "id": "133409c3",
   "metadata": {},
   "outputs": [
    {
     "data": {
      "text/html": [
       "<div>\n",
       "<style scoped>\n",
       "    .dataframe tbody tr th:only-of-type {\n",
       "        vertical-align: middle;\n",
       "    }\n",
       "\n",
       "    .dataframe tbody tr th {\n",
       "        vertical-align: top;\n",
       "    }\n",
       "\n",
       "    .dataframe thead th {\n",
       "        text-align: right;\n",
       "    }\n",
       "</style>\n",
       "<table border=\"1\" class=\"dataframe\">\n",
       "  <thead>\n",
       "    <tr style=\"text-align: right;\">\n",
       "      <th></th>\n",
       "      <th>driverId</th>\n",
       "      <th>driverRef</th>\n",
       "      <th>number</th>\n",
       "      <th>code</th>\n",
       "      <th>forename</th>\n",
       "      <th>surname</th>\n",
       "      <th>dob</th>\n",
       "      <th>nationality</th>\n",
       "      <th>fullName</th>\n",
       "      <th>urlImage</th>\n",
       "    </tr>\n",
       "  </thead>\n",
       "  <tbody>\n",
       "    <tr>\n",
       "      <th>116</th>\n",
       "      <td>117</td>\n",
       "      <td>prost</td>\n",
       "      <td>\\N</td>\n",
       "      <td>\\N</td>\n",
       "      <td>Alain</td>\n",
       "      <td>Prost</td>\n",
       "      <td>1955-02-24</td>\n",
       "      <td>French</td>\n",
       "      <td>Alain Prost</td>\n",
       "      <td>https://upload.wikimedia.org/wikipedia/commons...</td>\n",
       "    </tr>\n",
       "  </tbody>\n",
       "</table>\n",
       "</div>"
      ],
      "text/plain": [
       "     driverId driverRef number code forename surname         dob nationality  \\\n",
       "116       117     prost     \\N   \\N    Alain   Prost  1955-02-24      French   \n",
       "\n",
       "        fullName                                           urlImage  \n",
       "116  Alain Prost  https://upload.wikimedia.org/wikipedia/commons...  "
      ]
     },
     "execution_count": 107,
     "metadata": {},
     "output_type": "execute_result"
    }
   ],
   "source": [
    "drivers.query(\"fullName == 'Alain Prost'\")"
   ]
  },
  {
   "cell_type": "code",
   "execution_count": 106,
   "id": "6e2f663d",
   "metadata": {},
   "outputs": [],
   "source": [
    "options = webdriver.ChromeOptions()\n",
    "options.add_argument('--headless')\n",
    "driver = webdriver.Chrome(options=options)\n",
    "driver.get(\"https://www.englishclub.com/vocabulary/world-countries-nationality.php\")\n",
    "elem = driver.find_elements(By.CLASS_NAME, \"ec-table\")"
   ]
  },
  {
   "cell_type": "code",
   "execution_count": 107,
   "id": "d9d6bfb9",
   "metadata": {},
   "outputs": [],
   "source": [
    "html_nationality = pd.read_html(elem[0].get_attribute('outerHTML'))"
   ]
  },
  {
   "cell_type": "code",
   "execution_count": 108,
   "id": "c3b8b9ea",
   "metadata": {},
   "outputs": [],
   "source": [
    "nationality_to_country = pd.DataFrame(html_nationality[0])\n",
    "nationality_to_country['id'] = nationality_to_country.index + 1"
   ]
  },
  {
   "cell_type": "code",
   "execution_count": 109,
   "id": "121117c7",
   "metadata": {},
   "outputs": [
    {
     "data": {
      "text/html": [
       "<div>\n",
       "<style scoped>\n",
       "    .dataframe tbody tr th:only-of-type {\n",
       "        vertical-align: middle;\n",
       "    }\n",
       "\n",
       "    .dataframe tbody tr th {\n",
       "        vertical-align: top;\n",
       "    }\n",
       "\n",
       "    .dataframe thead th {\n",
       "        text-align: right;\n",
       "    }\n",
       "</style>\n",
       "<table border=\"1\" class=\"dataframe\">\n",
       "  <thead>\n",
       "    <tr style=\"text-align: right;\">\n",
       "      <th></th>\n",
       "      <th>country</th>\n",
       "      <th>nationality</th>\n",
       "      <th>id</th>\n",
       "    </tr>\n",
       "  </thead>\n",
       "  <tbody>\n",
       "    <tr>\n",
       "      <th>0</th>\n",
       "      <td>Afghanistan</td>\n",
       "      <td>Afghan</td>\n",
       "      <td>1</td>\n",
       "    </tr>\n",
       "    <tr>\n",
       "      <th>1</th>\n",
       "      <td>Albania</td>\n",
       "      <td>Albanian</td>\n",
       "      <td>2</td>\n",
       "    </tr>\n",
       "    <tr>\n",
       "      <th>2</th>\n",
       "      <td>Algeria</td>\n",
       "      <td>Algerian</td>\n",
       "      <td>3</td>\n",
       "    </tr>\n",
       "    <tr>\n",
       "      <th>3</th>\n",
       "      <td>Andorra</td>\n",
       "      <td>Andorran</td>\n",
       "      <td>4</td>\n",
       "    </tr>\n",
       "    <tr>\n",
       "      <th>4</th>\n",
       "      <td>Angola</td>\n",
       "      <td>Angolan</td>\n",
       "      <td>5</td>\n",
       "    </tr>\n",
       "    <tr>\n",
       "      <th>...</th>\n",
       "      <td>...</td>\n",
       "      <td>...</td>\n",
       "      <td>...</td>\n",
       "    </tr>\n",
       "    <tr>\n",
       "      <th>174</th>\n",
       "      <td>Yemen</td>\n",
       "      <td>Yemeni</td>\n",
       "      <td>175</td>\n",
       "    </tr>\n",
       "    <tr>\n",
       "      <th>175</th>\n",
       "      <td>Yugoslavia</td>\n",
       "      <td>Yugoslav</td>\n",
       "      <td>176</td>\n",
       "    </tr>\n",
       "    <tr>\n",
       "      <th>176</th>\n",
       "      <td>Zaire</td>\n",
       "      <td>Zaïrean</td>\n",
       "      <td>177</td>\n",
       "    </tr>\n",
       "    <tr>\n",
       "      <th>177</th>\n",
       "      <td>Zambia</td>\n",
       "      <td>Zambian</td>\n",
       "      <td>178</td>\n",
       "    </tr>\n",
       "    <tr>\n",
       "      <th>178</th>\n",
       "      <td>Zimbabwe</td>\n",
       "      <td>Zimbabwean</td>\n",
       "      <td>179</td>\n",
       "    </tr>\n",
       "  </tbody>\n",
       "</table>\n",
       "<p>179 rows × 3 columns</p>\n",
       "</div>"
      ],
      "text/plain": [
       "         country nationality   id\n",
       "0    Afghanistan      Afghan    1\n",
       "1        Albania    Albanian    2\n",
       "2        Algeria    Algerian    3\n",
       "3        Andorra    Andorran    4\n",
       "4         Angola     Angolan    5\n",
       "..           ...         ...  ...\n",
       "174        Yemen      Yemeni  175\n",
       "175   Yugoslavia    Yugoslav  176\n",
       "176        Zaire     Zaïrean  177\n",
       "177       Zambia     Zambian  178\n",
       "178     Zimbabwe  Zimbabwean  179\n",
       "\n",
       "[179 rows x 3 columns]"
      ]
     },
     "execution_count": 109,
     "metadata": {},
     "output_type": "execute_result"
    }
   ],
   "source": [
    "nationality_to_country.drop([\"person\"], axis=1,inplace=True)\n",
    "nationality_to_country.rename(columns={\"adjective\": \"nationality\"})"
   ]
  },
  {
   "cell_type": "code",
   "execution_count": 102,
   "id": "235cf51a",
   "metadata": {},
   "outputs": [],
   "source": [
    "##nationality_to_country.merge(drivers[[\"driverId\", \"nationality\"]], left_on=\"adjective\", right_on=\"nationality\")"
   ]
  }
 ],
 "metadata": {
  "kernelspec": {
   "display_name": "Python 3 (ipykernel)",
   "language": "python",
   "name": "python3"
  },
  "language_info": {
   "codemirror_mode": {
    "name": "ipython",
    "version": 3
   },
   "file_extension": ".py",
   "mimetype": "text/x-python",
   "name": "python",
   "nbconvert_exporter": "python",
   "pygments_lexer": "ipython3",
   "version": "3.9.13"
  }
 },
 "nbformat": 4,
 "nbformat_minor": 5
}
