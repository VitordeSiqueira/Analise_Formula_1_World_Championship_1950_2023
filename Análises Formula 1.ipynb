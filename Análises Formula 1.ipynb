{
 "cells": [
  {
   "cell_type": "markdown",
   "id": "b0870d8d",
   "metadata": {},
   "source": [
    "# 1. Introdução\n",
    "\n",
    "A análise abaixo foi realizada utilizando dados do campeonato mundial de Formula 1 (1950 - 2023) que foram disponibilizados no sites www.kaggle.com.\n",
    "\n",
    "Perguntas que tentaremos responder:\n",
    "- As cinco nacionalidades que mais contribuíram com pilotos na história da Fórmula 1 \n",
    "- As 5 equipes com mais vitórias na Fórmula 1\n",
    "- Os 5 pilotos com mais vitória na Fórmula 1\n",
    "- Brasileiros com mais participações na Formula 1\n",
    ".<br>\n",
    ".<br>\n",
    ".<br>\n",
    "- ..."
   ]
  },
  {
   "cell_type": "markdown",
   "id": "a90c2f79",
   "metadata": {},
   "source": [
    "Fonte do dataset: https://www.kaggle.com/datasets/rohanrao/formula-1-world-championship-1950-2020"
   ]
  },
  {
   "cell_type": "code",
   "execution_count": null,
   "id": "6b5d8783",
   "metadata": {},
   "outputs": [],
   "source": [
    "#!pip install kaggle"
   ]
  },
  {
   "cell_type": "code",
   "execution_count": null,
   "id": "cc9fe32b",
   "metadata": {},
   "outputs": [],
   "source": [
    "#!pip install selenium"
   ]
  },
  {
   "cell_type": "markdown",
   "id": "cf2ca2ff",
   "metadata": {},
   "source": [
    "## 2. Carregando bibliotecas"
   ]
  },
  {
   "cell_type": "code",
   "execution_count": null,
   "id": "4dfb3d69",
   "metadata": {},
   "outputs": [],
   "source": [
    "import pandas as pd\n",
    "import kaggle\n",
    "import numpy as np"
   ]
  },
  {
   "cell_type": "code",
   "execution_count": null,
   "id": "aab9d646",
   "metadata": {},
   "outputs": [],
   "source": [
    "from selenium import webdriver\n",
    "from selenium.webdriver.common.keys import Keys\n",
    "from selenium.webdriver.common.by import By\n",
    "from urllib.parse import unquote"
   ]
  },
  {
   "cell_type": "markdown",
   "id": "324f2070",
   "metadata": {},
   "source": [
    "## 3. Carregando datasets"
   ]
  },
  {
   "cell_type": "code",
   "execution_count": null,
   "id": "b2ecb72f",
   "metadata": {},
   "outputs": [],
   "source": [
    "drivers = pd.read_csv('drivers.csv')\n",
    "results = pd.read_csv('results.csv')\n",
    "constructors = pd.read_csv('constructors.csv')\n",
    "races = pd.read_csv(\"races.csv\")\n",
    "drivers.head()"
   ]
  },
  {
   "cell_type": "code",
   "execution_count": null,
   "id": "4942d236",
   "metadata": {},
   "outputs": [],
   "source": [
    "drivers.query('driverId == 13')"
   ]
  },
  {
   "cell_type": "code",
   "execution_count": null,
   "id": "63846ffc",
   "metadata": {},
   "outputs": [],
   "source": [
    "drivers.shape"
   ]
  },
  {
   "cell_type": "code",
   "execution_count": null,
   "id": "c12d54b2",
   "metadata": {},
   "outputs": [],
   "source": [
    "drivers.isnull().sum()"
   ]
  },
  {
   "cell_type": "code",
   "execution_count": null,
   "id": "4f18b727",
   "metadata": {},
   "outputs": [],
   "source": [
    "drivers['driverId'].duplicated().sum()"
   ]
  },
  {
   "cell_type": "markdown",
   "id": "5007a7c8",
   "metadata": {},
   "source": [
    "#### Criando uma nova coluna com o nome inteiro do piloto"
   ]
  },
  {
   "cell_type": "code",
   "execution_count": null,
   "id": "83d9039a",
   "metadata": {},
   "outputs": [],
   "source": [
    "drivers['fullName'] = drivers['forename'] + \" \" + drivers['surname']"
   ]
  },
  {
   "cell_type": "markdown",
   "id": "22d11530",
   "metadata": {},
   "source": [
    "##### Total de pilotos brasileiro que já disputaram a formula 1"
   ]
  },
  {
   "cell_type": "code",
   "execution_count": null,
   "id": "97848d09",
   "metadata": {},
   "outputs": [],
   "source": [
    "drivers.query('nationality == \"Brazilian\"').shape[0]"
   ]
  },
  {
   "cell_type": "markdown",
   "id": "ffb97116",
   "metadata": {},
   "source": [
    "### Top 5 nacionalidades que mais contribuíram com pilotos na história da Fórmula 1"
   ]
  },
  {
   "cell_type": "code",
   "execution_count": null,
   "id": "8261232a",
   "metadata": {},
   "outputs": [],
   "source": [
    "top_5_drivers_nationality = drivers.groupby('nationality').count().sort_values('driverId', ascending=False)['driverId'].head()\n",
    "top_5_drivers_nationality.plot(kind='bar', title=\"Top 5 nationality\")\n",
    "top_5_drivers_nationality"
   ]
  },
  {
   "cell_type": "markdown",
   "id": "865273b5",
   "metadata": {},
   "source": [
    "### Results CSV"
   ]
  },
  {
   "cell_type": "code",
   "execution_count": null,
   "id": "0296e6a0",
   "metadata": {},
   "outputs": [],
   "source": [
    "results.head(10)"
   ]
  },
  {
   "cell_type": "markdown",
   "id": "3683ed26",
   "metadata": {},
   "source": [
    "#### Adicionando as colunas fullName e nationality no dataframe results"
   ]
  },
  {
   "cell_type": "code",
   "execution_count": null,
   "id": "2b2596fe",
   "metadata": {},
   "outputs": [],
   "source": [
    "results = results.merge(drivers[['fullName', 'driverId', 'nationality']], on='driverId')"
   ]
  },
  {
   "cell_type": "markdown",
   "id": "e9761ca6",
   "metadata": {},
   "source": [
    "#### Adicionando a coluna year no dataframe results"
   ]
  },
  {
   "cell_type": "code",
   "execution_count": null,
   "id": "e6335a77",
   "metadata": {},
   "outputs": [],
   "source": [
    "results = results.merge(races[[\"year\", \"raceId\"]], on=\"raceId\")"
   ]
  },
  {
   "cell_type": "code",
   "execution_count": null,
   "id": "65b758ab",
   "metadata": {},
   "outputs": [],
   "source": [
    "results.head()"
   ]
  },
  {
   "cell_type": "markdown",
   "id": "291e2f4d",
   "metadata": {},
   "source": [
    "### Top 5 brasileiros com maior número vitórias"
   ]
  },
  {
   "cell_type": "code",
   "execution_count": null,
   "id": "9b0d338d",
   "metadata": {},
   "outputs": [],
   "source": [
    "top_5_brazilian_results_p1 = results.query('nationality == \"Brazilian\" and position == \"1\"').groupby(\"fullName\").count().sort_values(\"driverId\", ascending=False)['resultId'].head()\n",
    "top_5_brazilian_results_p1"
   ]
  },
  {
   "cell_type": "code",
   "execution_count": null,
   "id": "96552bda",
   "metadata": {},
   "outputs": [],
   "source": [
    "top_5_brazilian_results_p1.plot(kind='bar', title='Top 5 Brazilians winners', xlabel='Name')"
   ]
  },
  {
   "cell_type": "markdown",
   "id": "41b535e4",
   "metadata": {},
   "source": [
    "### Brasileiros com maiores participações na Formula 1"
   ]
  },
  {
   "cell_type": "code",
   "execution_count": null,
   "id": "ab1c3427",
   "metadata": {},
   "outputs": [],
   "source": [
    "top_5_brazilian_parcitipations = results.query('nationality == \"Brazilian\"').groupby(\"fullName\").count().sort_values(\"driverId\", ascending=False)['resultId'].head()\n",
    "top_5_brazilian_parcitipations"
   ]
  },
  {
   "cell_type": "code",
   "execution_count": null,
   "id": "8579de07",
   "metadata": {},
   "outputs": [],
   "source": [
    "top_5_brazilian_parcitipations.plot(kind='bar', title=\"Top 5 brazilian participations\", xlabel=\"Name\")"
   ]
  },
  {
   "cell_type": "markdown",
   "id": "92e5f2de",
   "metadata": {},
   "source": [
    "### Ayrton Senna vs Alain Prost"
   ]
  },
  {
   "cell_type": "markdown",
   "id": "bcf45375",
   "metadata": {},
   "source": [
    "#### Os anos que Ayrton Senna e Alain Prost correram na Fórmula 1"
   ]
  },
  {
   "cell_type": "code",
   "execution_count": null,
   "id": "f10d68cb",
   "metadata": {},
   "outputs": [],
   "source": [
    "anos_na_formula1_ayrton_senna = results.query(\"fullName == 'Ayrton Senna'\").sort_values(\"year\", ascending=True)[\"year\"].unique()\n",
    "anos_na_formula1_alain_prost = results.query(\"fullName == 'Alain Prost'\").sort_values(\"year\", ascending=True)[\"year\"].unique()\n",
    "print(\"Ayrton Senna esteve em {} na Fórmula 1\".format(anos_na_formula1_ayrton_senna))\n",
    "print(\"-=\" * 55)\n",
    "print(\"Alain Prost esteve em {} na Fórmula 1\".format(anos_na_formula1_alain_prost))"
   ]
  },
  {
   "cell_type": "markdown",
   "id": "876ef4fb",
   "metadata": {},
   "source": [
    "#### Total de corridas"
   ]
  },
  {
   "cell_type": "code",
   "execution_count": null,
   "id": "22e26115",
   "metadata": {},
   "outputs": [],
   "source": [
    "print(\"Total de corridas de Ayrton Senna: {}\".format(results.query('fullName == \"Ayrton Senna\"').shape[0]))\n",
    "print(\"Total de corridas de Alain Prost: {}\".format(results.query('fullName == \"Alain Prost\"').shape[0]))"
   ]
  },
  {
   "cell_type": "markdown",
   "id": "52d344c1",
   "metadata": {},
   "source": [
    "#### Total de corridas ganhas"
   ]
  },
  {
   "cell_type": "code",
   "execution_count": null,
   "id": "8c5954bb",
   "metadata": {},
   "outputs": [],
   "source": [
    "ayrton_senna_p1 = results.query('position == \"1\" and fullName == \"Ayrton Senna\"').count()['driverId']\n",
    "alain_prost_p1 = results.query('position == \"1\" and fullName == \"Alain Prost\"').count()['driverId']\n",
    "print(\"Total de corridas ganhas de Ayrton Senna: {}\".format(ayrton_senna_p1))\n",
    "print(\"Total de corridas ganhas de Alain Prost: {}\".format(alain_prost_p1))\n"
   ]
  },
  {
   "cell_type": "markdown",
   "id": "dc0f70c7",
   "metadata": {},
   "source": [
    "#### Total de corridas ganhas por corridas disputadas"
   ]
  },
  {
   "cell_type": "code",
   "execution_count": null,
   "id": "54067361",
   "metadata": {},
   "outputs": [],
   "source": [
    "print(\"{}\".format(ayrton_senna_p1 / results.query('fullName == \"Ayrton Senna\"').shape[0]))\n",
    "print(\"{}\".format(alain_prost_p1 / results.query('fullName == \"Alain Prost\"').shape[0]))"
   ]
  },
  {
   "cell_type": "markdown",
   "id": "1c0b73ad",
   "metadata": {},
   "source": [
    "#### Total de pódios"
   ]
  },
  {
   "cell_type": "code",
   "execution_count": null,
   "id": "3ee37d28",
   "metadata": {},
   "outputs": [],
   "source": [
    "# Fazer de primeiro, segundo e terceiro colocado\n",
    "ayrton_senna_podio =  results.query('(position == \"1\" or position == \"2\" or position == \"3\" ) and fullName == \"Ayrton Senna\"').count()['driverId']\n",
    "alain_prost_podio = results.query('(position == \"1\" or position == \"2\" or position == \"3\" ) and fullName == \"Alain Prost\"').count()['driverId']\n",
    "print(\"Pódios de Ayrton Senna: {}\".format(ayrton_senna_podio))\n",
    "print(\"Pódios de Alain Prost: {}\".format(alain_prost_podio))\n",
    "podios = { \"Ayrton Senna\": [ayrton_senna_podio],\n",
    "            \"Alain Prost\": [alain_prost_podio]\n",
    "         }\n",
    "\n",
    "df_podios = pd.DataFrame(podios)\n",
    "df_podios.plot(kind=\"bar\")"
   ]
  },
  {
   "cell_type": "markdown",
   "id": "188a3160",
   "metadata": {},
   "source": [
    "#### Número de ocorrencias por posição de chegada"
   ]
  },
  {
   "cell_type": "code",
   "execution_count": null,
   "id": "f9f69d72",
   "metadata": {},
   "outputs": [],
   "source": [
    "corridas_podio_ayrton_senna = results.query('fullName == \"Ayrton Senna\"').groupby(\"position\").count().sort_values(\"driverId\", ascending=False)[\"driverId\"].head()\n",
    "corridas_podia_alain_prost = results.query('fullName == \"Alain Prost\"').groupby(\"position\").count().sort_values(\"driverId\", ascending=False)[\"driverId\"].head()"
   ]
  },
  {
   "cell_type": "code",
   "execution_count": null,
   "id": "fea15c61",
   "metadata": {},
   "outputs": [],
   "source": [
    "print(\"Ayrton Senna\")\n",
    "for item in range(corridas_podio_ayrton_senna[1:4].shape[0]):\n",
    "    print(\"{}° colocado: {} corridas.\".format(item+1, corridas_podio_ayrton_senna[1:4][item]))\n",
    "    \n",
    "print(\"-=\" * 20)    \n",
    "print(\"\\n\\n\")\n",
    "\n",
    "print(\"Alain Prost\")\n",
    "for item in range(corridas_podia_alain_prost[1:4].shape[0]):\n",
    "    print(\"{}° colocado: {} corridas.\".format(item+1, corridas_podia_alain_prost[1:4][item]))"
   ]
  },
  {
   "cell_type": "code",
   "execution_count": null,
   "id": "7e0e974a",
   "metadata": {},
   "outputs": [],
   "source": [
    "index = [\"1° Colocado\",\"2° Colocado\",\"3° Colocado\"]\n",
    "ocorrencia_podio = pd.DataFrame({\"Ayrton Senna\": corridas_podio_ayrton_senna[1:4].values,\n",
    "                   \"Alain Prost\": corridas_podia_alain_prost[1:4].values}, index=index)\n",
    "ocorrencia_podio.plot(kind=\"bar\", title=\"Pódio: Senna vs Prost\", rot=0)"
   ]
  },
  {
   "cell_type": "code",
   "execution_count": null,
   "id": "6b1309c1",
   "metadata": {},
   "outputs": [],
   "source": [
    "constructors.head()"
   ]
  },
  {
   "cell_type": "markdown",
   "id": "131b6ba1",
   "metadata": {},
   "source": [
    "#### Adicionando o nome da equipe no dataframe results"
   ]
  },
  {
   "cell_type": "code",
   "execution_count": null,
   "id": "3f2142da",
   "metadata": {},
   "outputs": [],
   "source": [
    "results = results.merge(constructors[['name', 'constructorId']], on='constructorId')\n",
    "results.query('fullName == \"Felipe Massa\"').head()"
   ]
  },
  {
   "cell_type": "markdown",
   "id": "cba504d1",
   "metadata": {},
   "source": [
    "### Top 5 equipes com maior número de vitórias"
   ]
  },
  {
   "cell_type": "code",
   "execution_count": null,
   "id": "6edfdd71",
   "metadata": {},
   "outputs": [],
   "source": [
    "top_5_contructors_winner = results.query('position == \"1\"').groupby('name').count().sort_values('resultId', ascending=False).head()['resultId']\n",
    "top_5_contructors_winner"
   ]
  },
  {
   "cell_type": "code",
   "execution_count": null,
   "id": "a1c9b810",
   "metadata": {},
   "outputs": [],
   "source": [
    "### Duvidas\n",
    "a = '\\\\N'\n",
    "abc = results.query(\"position != @a\")\n",
    "abc = abc[['grid', 'position']].astype(int)\n",
    "\n",
    "ooo = [\"grid\", \"position\"]\n",
    "abc[ooo].corr()"
   ]
  },
  {
   "cell_type": "code",
   "execution_count": null,
   "id": "c15d0048",
   "metadata": {},
   "outputs": [],
   "source": [
    "top_5_contructors_winner.plot(kind=\"bar\", title=\"Top 5 constructor winners\", xlabel=\"Constructors\")"
   ]
  },
  {
   "cell_type": "markdown",
   "id": "c54bb5a0",
   "metadata": {},
   "source": [
    "#### Excluindo colunas desnecessárias para o projeto e coluna \"year\" que foi adicionado ao dataframe para fazer algumas análises"
   ]
  },
  {
   "cell_type": "code",
   "execution_count": null,
   "id": "36e6feed",
   "metadata": {},
   "outputs": [],
   "source": [
    "columns_drop_results = [\"number\", \"grid\", \"positionText\", \"positionOrder\", \"points\", \"laps\", \"time\", \"milliseconds\",\n",
    "                       \"fastestLap\", \"rank\", \"fastestLapTime\", \"fastestLapSpeed\", \"statusId\",\"year\", \"name\"]\n",
    "results.drop(columns_drop_results, axis=1, inplace=True)"
   ]
  },
  {
   "cell_type": "code",
   "execution_count": null,
   "id": "b80c2ff8",
   "metadata": {},
   "outputs": [],
   "source": [
    "results.head()"
   ]
  },
  {
   "cell_type": "markdown",
   "id": "ad28f79a",
   "metadata": {},
   "source": [
    "#### Substituindo o valor \\\\N para 0\n",
    "- \\\\\\N significa que o piloto não terminou a corrida"
   ]
  },
  {
   "cell_type": "code",
   "execution_count": null,
   "id": "4d4b4eec",
   "metadata": {},
   "outputs": [],
   "source": [
    "results['position'].replace(\"\\\\N\", 0, inplace=True)"
   ]
  },
  {
   "cell_type": "code",
   "execution_count": null,
   "id": "c08390ae",
   "metadata": {},
   "outputs": [],
   "source": [
    "results['position'].unique()"
   ]
  },
  {
   "cell_type": "markdown",
   "id": "cd711c7f",
   "metadata": {},
   "source": [
    "### Top 5 pilotos com maiores número de vitórias"
   ]
  },
  {
   "cell_type": "code",
   "execution_count": null,
   "id": "15818a99",
   "metadata": {},
   "outputs": [],
   "source": [
    "top_5_p1 = results.query('position == \"1\"').groupby(['fullName']).count().sort_values('resultId', ascending=False)['resultId'].head()\n",
    "#top_5_p1['resultId'].plot(kind='bar', title='Top 5 winners', xlabel='Name')\n",
    "top_5_p1"
   ]
  },
  {
   "cell_type": "code",
   "execution_count": null,
   "id": "bf6b7d0b",
   "metadata": {},
   "outputs": [],
   "source": [
    "top_5_p1.plot(kind='bar', title='Top 5 winners', xlabel='Name')"
   ]
  },
  {
   "cell_type": "markdown",
   "id": "24d8dda8",
   "metadata": {},
   "source": [
    "# 4. Selenium\n",
    "\n",
    "### Web Scraping para extrair as fotos dos pilotos de acordo com a URL disponibilizada no dataset \"drivers.csv\" "
   ]
  },
  {
   "cell_type": "markdown",
   "id": "dc882a27",
   "metadata": {},
   "source": [
    "- A tarefa consiste em acessar uma URL específica associada a cada piloto de corrida, verificar se há uma imagem disponível do piloto nessa página e, em seguida, armazenar essa URL da imagem em um dicionário chamado url_image. \n",
    "- Cada chave neste dicionário será o driverId do piloto e o valor correspondente será a URL da imagem, caso exista. Se não houver uma imagem disponível na página do piloto, será salva uma imagem padrão para indicar essa ausência"
   ]
  },
  {
   "cell_type": "code",
   "execution_count": null,
   "id": "38703adb",
   "metadata": {},
   "outputs": [],
   "source": [
    "options = webdriver.ChromeOptions()\n",
    "options.add_argument('--headless')\n",
    "driver = webdriver.Chrome(options=options)\n",
    "url_image = {}\n",
    "x = 0\n",
    "y = 0\n",
    "for i in range(1, drivers.shape[0]):\n",
    "    driver.get(drivers['url'][x])\n",
    "    elem = driver.find_elements(By.CLASS_NAME, \"mw-file-element\")\n",
    "    contador_limite = len(elem) - 1\n",
    "    if len(elem) != 0:\n",
    "        while drivers['surname'][x].split()[0] not in unquote(elem[y].get_attribute(\"src\")) :\n",
    "            if contador_limite == y:\n",
    "                break\n",
    "            y += 1\n",
    "#         url_image[drivers[\"driverId\"][x]] = unquote(elem[y].get_attribute(\"src\"))\n",
    "#     else:\n",
    "#         url_image[drivers[\"driverId\"][x]] = \"https://www.promoview.com.br/uploads/images/unnamed%2819%29.png\"\n",
    "        \n",
    "    if len(elem) == 0 or drivers['surname'][x].split()[0] not in unquote(elem[y].get_attribute(\"src\")):\n",
    "        url_image[drivers[\"driverId\"][x]] = \"https://www.promoview.com.br/uploads/images/unnamed%2819%29.png\"\n",
    "    else:\n",
    "        url_image[drivers[\"driverId\"][x]] = unquote(elem[y].get_attribute(\"src\"))\n",
    "    y = 0\n",
    "    x += 1\n"
   ]
  },
  {
   "cell_type": "markdown",
   "id": "a52862ee",
   "metadata": {},
   "source": [
    "#### transformando o dicionário  em um dataframe"
   ]
  },
  {
   "cell_type": "code",
   "execution_count": null,
   "id": "243edf2d",
   "metadata": {},
   "outputs": [],
   "source": [
    "url_image_dataframe = pd.DataFrame(list(url_image.items()), columns=[\"driverId\", \"urlImage\"])"
   ]
  },
  {
   "cell_type": "markdown",
   "id": "d87e85fe",
   "metadata": {},
   "source": [
    "#### Junção do dataframe \"drivers\" com as URLs das fotos dos pilotos "
   ]
  },
  {
   "cell_type": "code",
   "execution_count": null,
   "id": "3efef64d",
   "metadata": {
    "scrolled": true
   },
   "outputs": [],
   "source": [
    "drivers = drivers.merge(url_image_dataframe, on=\"driverId\")\n",
    "drivers"
   ]
  },
  {
   "cell_type": "markdown",
   "id": "d1d98067",
   "metadata": {},
   "source": [
    "### Web Scraping para extrair todos os campeões da Fórmula 1"
   ]
  },
  {
   "cell_type": "code",
   "execution_count": null,
   "id": "df2df478",
   "metadata": {},
   "outputs": [],
   "source": [
    "options = webdriver.ChromeOptions()\n",
    "options.add_argument('--headless')\n",
    "driver = webdriver.Chrome(options=options)\n",
    "driver.get(\"https://www.esportesmotor.com/resultados/formula-1/todos-os-campeoes-da-formula-1/\")\n",
    "elem = driver.find_elements(By.TAG_NAME, \"table\")"
   ]
  },
  {
   "cell_type": "code",
   "execution_count": null,
   "id": "cb31cfc1",
   "metadata": {},
   "outputs": [],
   "source": [
    "html_campeoes_formula1 = pd.read_html(elem[0].get_attribute('outerHTML'))\n",
    "df_campeoes_formula1 = pd.DataFrame(html_campeoes_formula1[0])\n",
    "top_5_campeos_formula1 = df_campeoes_formula1.groupby(\"Piloto\")[[\"Ano\"]].count().sort_values(\"Ano\", ascending=False).head()\n",
    "top_5_campeos_formula1.rename(columns={\"Ano\": \"Conquistas\"}, inplace=True)\n",
    "top_5_campeos_formula1"
   ]
  },
  {
   "cell_type": "code",
   "execution_count": null,
   "id": "33391fdf",
   "metadata": {},
   "outputs": [],
   "source": [
    "top_5_campeos_formula1[:10].plot(kind=\"barh\").invert_yaxis()"
   ]
  },
  {
   "cell_type": "markdown",
   "id": "9c3502b5",
   "metadata": {},
   "source": [
    "#### Transformando o dataframe de campeões para csv"
   ]
  },
  {
   "cell_type": "code",
   "execution_count": null,
   "id": "978dfe3d",
   "metadata": {
    "scrolled": false
   },
   "outputs": [],
   "source": [
    "df_campeoes_formula1.to_csv(\"champions.csv\", index=False)"
   ]
  },
  {
   "cell_type": "code",
   "execution_count": null,
   "id": "9cab6941",
   "metadata": {},
   "outputs": [],
   "source": [
    "drivers.drop(\"url\", axis=1, inplace=True)"
   ]
  },
  {
   "cell_type": "code",
   "execution_count": null,
   "id": "4b4ccd67",
   "metadata": {},
   "outputs": [],
   "source": [
    "drivers.to_csv(\"drivers_with_image.csv\", index=False)"
   ]
  },
  {
   "cell_type": "code",
   "execution_count": null,
   "id": "133409c3",
   "metadata": {},
   "outputs": [],
   "source": [
    "drivers.query(\"fullName == 'Alain Prost'\")"
   ]
  },
  {
   "cell_type": "code",
   "execution_count": null,
   "id": "6e2f663d",
   "metadata": {},
   "outputs": [],
   "source": [
    "options = webdriver.ChromeOptions()\n",
    "options.add_argument('--headless')\n",
    "driver = webdriver.Chrome(options=options)\n",
    "driver.get(\"https://www.englishclub.com/vocabulary/world-countries-nationality.php\")\n",
    "elem = driver.find_elements(By.CLASS_NAME, \"ec-table\")"
   ]
  },
  {
   "cell_type": "code",
   "execution_count": null,
   "id": "5f56b0ff",
   "metadata": {},
   "outputs": [],
   "source": [
    "html_nationality = pd.read_html(elem[0].get_attribute('outerHTML'))"
   ]
  },
  {
   "cell_type": "code",
   "execution_count": null,
   "id": "6c82973f",
   "metadata": {},
   "outputs": [],
   "source": [
    "nationality_to_country = pd.DataFrame(html_nationality[0])\n",
    "nationality_to_country['id'] = nationality_to_country.index + 1"
   ]
  },
  {
   "cell_type": "code",
   "execution_count": null,
   "id": "d63e203d",
   "metadata": {},
   "outputs": [],
   "source": [
    "nationality_to_country.drop([\"person\"], axis=1,inplace=True)\n",
    "nationality_to_country.rename(columns={\"adjective\": \"nationality\"})"
   ]
  },
  {
   "cell_type": "code",
   "execution_count": null,
   "id": "eb5b9fdd",
   "metadata": {},
   "outputs": [],
   "source": [
    "##nationality_to_country.merge(drivers[[\"driverId\", \"nationality\"]], left_on=\"adjective\", right_on=\"nationality\")"
   ]
  }
 ],
 "metadata": {
  "kernelspec": {
   "display_name": "Python 3 (ipykernel)",
   "language": "python",
   "name": "python3"
  },
  "language_info": {
   "codemirror_mode": {
    "name": "ipython",
    "version": 3
   },
   "file_extension": ".py",
   "mimetype": "text/x-python",
   "name": "python",
   "nbconvert_exporter": "python",
   "pygments_lexer": "ipython3",
   "version": "3.9.13"
  }
 },
 "nbformat": 4,
 "nbformat_minor": 5
}
